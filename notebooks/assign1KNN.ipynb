{
 "cells": [
  {
   "cell_type": "markdown",
   "id": "89d4f112-f61a-4849-a629-42ddcb6392cd",
   "metadata": {},
   "source": [
    "Robert Steward\n",
    "\n",
    "CS7641\n",
    "\n",
    "KNN Analysis\n",
    "\n",
    "This notebook is broken into two halves both providing code for the K Nearest Neighbors Analysis. The first part is for the Titanic data set. The second part is for the Diabetes data set\n"
   ]
  },
  {
   "cell_type": "code",
   "execution_count": null,
   "id": "66563267-993d-4021-9c4e-d260ae41ba47",
   "metadata": {},
   "outputs": [],
   "source": [
    "import pandas as pd\n",
    "import numpy as np\n",
    "import math\n",
    "import time\n",
    "import matplotlib.pyplot as plt\n",
    "from sklearn.model_selection import train_test_split\n",
    "from sklearn.metrics import accuracy_score #tester\n",
    "from sklearn.metrics import confusion_matrix #tester\n",
    "from sklearn.metrics import f1_score  #tester\n",
    "from sklearn.model_selection import learning_curve\n",
    "from sklearn.neighbors import KNeighborsClassifier\n",
    "from sklearn.preprocessing import StandardScaler\n",
    "from sklearn.model_selection import GridSearchCV"
   ]
  },
  {
   "cell_type": "code",
   "execution_count": 2,
   "id": "e1d8cd09-3748-4dd4-a074-1634347b7f05",
   "metadata": {},
   "outputs": [],
   "source": [
    "df=pd.read_csv(\"dataSets/titanic.csv\")\n",
    "del df[\"PassengerId\"]\n",
    "del df[\"Name\"]\n",
    "del df[\"Ticket\"]\n",
    "del df[\"Cabin\"]\n",
    "df['Sex']=df['Sex'].replace(to_replace='male',value='1')\n",
    "df['Sex']=df['Sex'].replace(to_replace='female',value='0')\n",
    "df['Embarked']=df['Embarked'].replace(to_replace='S',value='0')\n",
    "df['Embarked']=df['Embarked'].replace(to_replace='C',value='1')\n",
    "df['Embarked']=df['Embarked'].replace(to_replace='Q',value='2')\n",
    "df=df.dropna()\n",
    "y=df['Survived']\n",
    "X=df.drop(['Survived'],axis=1)"
   ]
  },
  {
   "cell_type": "code",
   "execution_count": 3,
   "id": "66d106ee-2253-42fb-9695-33c219fd0326",
   "metadata": {},
   "outputs": [
    {
     "name": "stdout",
     "output_type": "stream",
     "text": [
      "712\n",
      "   Survived  Pclass Sex   Age  SibSp  Parch     Fare Embarked\n",
      "0         0       3   1  22.0      1      0   7.2500        0\n",
      "1         1       1   0  38.0      1      0  71.2833        1\n",
      "2         1       3   0  26.0      0      0   7.9250        0\n",
      "3         1       1   0  35.0      1      0  53.1000        0\n",
      "4         0       3   1  35.0      0      0   8.0500        0\n"
     ]
    }
   ],
   "source": [
    "print(len(df))\n",
    "print(df.head())"
   ]
  },
  {
   "cell_type": "code",
   "execution_count": 4,
   "id": "1f3b2c0d-1ea9-4735-bd44-ce48f705ab13",
   "metadata": {},
   "outputs": [
    {
     "data": {
      "text/plain": [
       "13.341664064126334"
      ]
     },
     "execution_count": 4,
     "metadata": {},
     "output_type": "execute_result"
    }
   ],
   "source": [
    "X_train, X_test, y_train, y_test = train_test_split(X, y, test_size = 0.25, random_state = 25)  #same as DT\n",
    "math.sqrt(len(y_test))\n"
   ]
  },
  {
   "cell_type": "code",
   "execution_count": 6,
   "id": "76b03d8c-8425-4eb5-83ed-6fe4b15f4442",
   "metadata": {},
   "outputs": [
    {
     "name": "stdout",
     "output_type": "stream",
     "text": [
      "Fitting 10 folds for each of 48 candidates, totalling 480 fits\n",
      "Grid Search KNN titanic 6.4102 seconds\n",
      "{'n_neighbors': 13, 'p': 3}\n"
     ]
    }
   ],
   "source": [
    "tic = time.perf_counter()\n",
    "model= KNeighborsClassifier(metric='minkowski')\n",
    "grid_values={\"n_neighbors\":[5,6,7,8,9,10,11,12,13,14,15,16,17,25,30,40],\n",
    "            \"p\":[2,3,4]}\n",
    "grid = GridSearchCV(model, grid_values, cv=10, scoring='accuracy', return_train_score=False,verbose=1)\n",
    "grid_search=grid.fit(X_train, y_train)\n",
    "toc = time.perf_counter()\n",
    "print(f\"Grid Search KNN titanic {toc - tic:0.4f} seconds\")\n",
    "print(grid_search.best_params_)"
   ]
  },
  {
   "cell_type": "code",
   "execution_count": 8,
   "id": "b92c8e03-2b41-446f-82dc-132f90869b2a",
   "metadata": {},
   "outputs": [
    {
     "name": "stdout",
     "output_type": "stream",
     "text": [
      "Time for best fit KNN diabetes 0.0074 seconds\n",
      "[[104   0]\n",
      " [  0  74]]\n",
      "0.7247191011235955\n",
      "0.702247191011236\n",
      "0.5954198473282442\n",
      "0.6016260162601627\n"
     ]
    }
   ],
   "source": [
    "tic = time.perf_counter()\n",
    "model=KNeighborsClassifier(n_neighbors=12,p=2,metric='minkowski')\n",
    "model.fit(X_train,y_train)\n",
    "toc = time.perf_counter()\n",
    "print(f\"Time for best fit KNN diabetes {toc - tic:0.4f} seconds\")\n",
    "y_pred_train=model.predict(X_train)\n",
    "y_pred_test=model.predict(X_test)\n",
    "cm=confusion_matrix(y_test,y_test)\n",
    "print(cm)\n",
    "\n",
    "print(accuracy_score(y_train,y_pred_train))\n",
    "print(accuracy_score(y_test,y_pred_test))\n",
    "print(f1_score(y_test,y_pred_test))\n",
    "print(f1_score(y_train,y_pred_train))"
   ]
  },
  {
   "cell_type": "code",
   "execution_count": 187,
   "id": "00a7be79-da37-4c2f-9b89-1d42fbb952e2",
   "metadata": {},
   "outputs": [
    {
     "name": "stdout",
     "output_type": "stream",
     "text": [
      "   Neighbors  Accuracy Train  Accuracy Test  F1 Score Train  F1 Score Test\n",
      "0          5           0.873          0.792           0.836          0.836\n",
      "1         12           0.841          0.787           0.789          0.789\n",
      "2         15           0.843          0.770           0.798          0.798\n",
      "3         20           0.816          0.758           0.750          0.750\n",
      "4         25           0.796          0.753           0.725          0.725\n",
      "5         30           0.807          0.770           0.738          0.738\n",
      "6         35           0.800          0.770           0.733          0.733\n"
     ]
    }
   ],
   "source": [
    "result=[]\n",
    "neighbors=[5,12,15,20,25,30,35]\n",
    "for i in range(7):\n",
    "    nbrs=neighbors[i]\n",
    "    classifier=KNeighborsClassifier(n_neighbors=nbrs,p=2,metric='minkowski')\n",
    "    classifier.fit(X_train,y_train)\n",
    "    y_pred_train=classifier.predict(X_train)\n",
    "    y_pred=classifier.predict(X_test)\n",
    "    f1score_test=f1_score(y_test,y_pred)\n",
    "    f1score_train=f1_score(y_train,y_pred_train)\n",
    "    acc_train=accuracy_score(y_train,y_pred_train)\n",
    "    acc_test=accuracy_score(y_test,y_pred)\n",
    "    temp=[nbrs,round(acc_train,3),round(acc_test,3),round(f1score_train,3),round(f1score_train,3)]\n",
    "    result.append(temp)\n",
    "    if nbrs==11:\n",
    "        print(confusion_matrix(y_test,y_pred))\n",
    "df_results=pd.DataFrame(result, columns=[\"Neighbors\", \"Accuracy Train\", \"Accuracy Test\", \"F1 Score Train\", \"F1 Score Test\" ])\n",
    "print(df_results)"
   ]
  },
  {
   "cell_type": "code",
   "execution_count": 22,
   "id": "036b57f8-233e-4d01-accd-f4c5b1a8addb",
   "metadata": {
    "tags": []
   },
   "outputs": [
    {
     "data": {
      "image/png": "[encoded data removed]",
      "text/plain": [
       "<Figure size 432x288 with 1 Axes>"
      ]
     },
     "metadata": {
      "needs_background": "light"
     },
     "output_type": "display_data"
    }
   ],
   "source": [
    "model=KNeighborsClassifier(n_neighbors=12,p=2,metric='minkowski')\n",
    "title=\"K-Nearest Neighbors Learning Curve\"\n",
    "trainingSizes,trainingScores,testingScores = learning_curve(model,X,y,random_state = 42,cv = 10)\n",
    "plt.figure()\n",
    "plt.title(title)\n",
    "ylim = (0.4, .9)\n",
    "if ylim is not None:\n",
    "    plt.ylim(*ylim)\n",
    "        \n",
    "plt.xlabel(\"Training examples\")\n",
    "plt.ylabel(\"Score\")\n",
    "    \n",
    "trainingScores_std = np.std(trainingScores, axis=1)\n",
    "trainingScores_mean = np.mean(trainingScores, axis=1)\n",
    "testingScores_mean = np.mean(testingScores, axis=1)\n",
    "testingScores_std = np.std(testingScores, axis=1)\n",
    "plt.grid()\n",
    "\n",
    "plt.fill_between(trainingSizes, trainingScores_mean - trainingScores_std,\n",
    "                trainingScores_mean + trainingScores_std, alpha=0.1,\n",
    "                color=\"y\")\n",
    "plt.fill_between(trainingSizes, testingScores_mean - testingScores_std,\n",
    "                testingScores_mean + testingScores_std, alpha=0.1, color=\"b\")\n",
    "plt.plot(trainingSizes, trainingScores_mean, 'o-', color=\"y\",\n",
    "        label=\"Training score\")\n",
    "plt.plot(trainingSizes, testingScores_mean, 'o-', color=\"b\",\n",
    "        label=\"Cross-validation score\")\n",
    "\n",
    "plt.legend(loc=\"best\")\n",
    "plt.show()"
   ]
  },
  {
   "cell_type": "code",
   "execution_count": null,
   "id": "d622874d-db99-4666-a4a6-ea5ce5cbd110",
   "metadata": {},
   "outputs": [],
   "source": []
  },
  {
   "cell_type": "code",
   "execution_count": 114,
   "id": "60ce581a-188b-463b-9029-0918d3cea0a5",
   "metadata": {},
   "outputs": [],
   "source": [
    "#diabetes data set"
   ]
  },
  {
   "cell_type": "code",
   "execution_count": 9,
   "id": "83178fad-73c4-48c5-b1d6-1a2113879498",
   "metadata": {},
   "outputs": [],
   "source": [
    "df=pd.read_csv(\"dataSets/diabetes.csv\")\n",
    "zero_to_nan=['Glucose','BloodPressure','SkinThickness','Insulin','BMI']\n",
    "for col in zero_to_nan:\n",
    "             df[col]=df[col].replace(0,np.NaN)\n",
    "             mean=int(df[col].mean(skipna=True))\n",
    "             df[col]=df[col].replace(np.NaN,mean)\n",
    "X=df.iloc[:,0:8]\n",
    "y=df.iloc[:,8]\n",
    "X_train, X_test, y_train, y_test = train_test_split(X, y, test_size = 0.2, random_state = 0)  #same as DT"
   ]
  },
  {
   "cell_type": "code",
   "execution_count": 10,
   "id": "2cd0c6b6-04a6-442d-882b-0302cf382046",
   "metadata": {},
   "outputs": [
    {
     "data": {
      "text/plain": [
       "12.409673645990857"
      ]
     },
     "execution_count": 10,
     "metadata": {},
     "output_type": "execute_result"
    }
   ],
   "source": [
    "sc_X=StandardScaler()\n",
    "X_train=sc_X.fit_transform(X_train)\n",
    "X_test=sc_X.fit_transform(X_test)\n",
    "math.sqrt(X_test.shape[0])"
   ]
  },
  {
   "cell_type": "code",
   "execution_count": 12,
   "id": "d80f0224-71fe-4dd8-ae13-5f97f2a1d21f",
   "metadata": {},
   "outputs": [
    {
     "name": "stdout",
     "output_type": "stream",
     "text": [
      "Fitting 10 folds for each of 48 candidates, totalling 480 fits\n",
      "Grid Search KNN diabetes 8.7386 seconds\n",
      "{'n_neighbors': 15, 'p': 2}\n"
     ]
    }
   ],
   "source": [
    "tic = time.perf_counter()\n",
    "model= KNeighborsClassifier(metric='minkowski')\n",
    "grid_values={\"n_neighbors\":[5,6,7,8,9,10,11,12,13,14, 15,16,17,25,30,40],\n",
    "            \"p\":[2,3,4]}\n",
    "grid = GridSearchCV(model, grid_values, cv=10, scoring='accuracy', return_train_score=False,verbose=1)\n",
    "grid_search=grid.fit(X_train, y_train)\n",
    "toc = time.perf_counter()\n",
    "print(f\"Grid Search KNN diabetes {toc - tic:0.4f} seconds\")\n",
    "\n",
    "print(grid_search.best_params_)"
   ]
  },
  {
   "cell_type": "code",
   "execution_count": 14,
   "id": "aafef422-6f2b-4adc-bd5e-a2818baadde3",
   "metadata": {},
   "outputs": [
    {
     "name": "stdout",
     "output_type": "stream",
     "text": [
      "Time for best fit KNN diabetes 0.0040 seconds\n"
     ]
    }
   ],
   "source": [
    "tic = time.perf_counter()\n",
    "model=KNeighborsClassifier(n_neighbors=15,p=2,metric='minkowski')\n",
    "model.fit(X_train,y_train)\n",
    "toc = time.perf_counter()\n",
    "print(f\"Time for best fit KNN diabetes {toc - tic:0.4f} seconds\")\n",
    "y_pred_train=model.predict(X_train)\n",
    "y_pred=model.predict(X_test)"
   ]
  },
  {
   "cell_type": "code",
   "execution_count": 201,
   "id": "b54804fe-89a3-468a-b9ca-e1cc41d3f0b6",
   "metadata": {},
   "outputs": [
    {
     "name": "stdout",
     "output_type": "stream",
     "text": [
      "[[94 13]\n",
      " [18 29]]\n",
      "0.651685393258427\n",
      "0.6530612244897959\n",
      "0.7785016286644951\n",
      "0.7987012987012987\n"
     ]
    }
   ],
   "source": [
    "cm=confusion_matrix(y_test,y_pred)\n",
    "print(cm)\n",
    "print(f1_score(y_test,y_pred))\n",
    "print(f1_score(y_train,y_pred_train))\n",
    "print(accuracy_score(y_train,y_pred_train))\n",
    "print(accuracy_score(y_test,y_pred))"
   ]
  },
  {
   "cell_type": "code",
   "execution_count": 208,
   "id": "29df7267-6fd3-4f42-a760-d2d73b03e5fe",
   "metadata": {},
   "outputs": [
    {
     "name": "stdout",
     "output_type": "stream",
     "text": [
      "   Neighbors  Accuracy Train  Accuracy Test  F1 Score Train  F1 Score Test\n",
      "0          5           0.806          0.753           0.716          0.716\n",
      "1         10           0.795          0.792           0.677          0.677\n",
      "2         15           0.783          0.786           0.675          0.675\n",
      "3         20           0.775          0.779           0.635          0.635\n",
      "4         25           0.779          0.799           0.653          0.653\n",
      "5         30           0.764          0.799           0.611          0.611\n",
      "6         35           0.769          0.818           0.634          0.634\n"
     ]
    }
   ],
   "source": [
    "result=[]\n",
    "neighbors=[5,10,15,20,25,30,35]\n",
    "for i in range(len(neighbors)):\n",
    "    nbrs=neighbors[i]\n",
    "    classifier=KNeighborsClassifier(n_neighbors=nbrs,p=2,metric='minkowski')\n",
    "    classifier.fit(X_train,y_train)\n",
    "    y_pred_train=classifier.predict(X_train)\n",
    "    y_pred=classifier.predict(X_test)\n",
    "    f1score_test=f1_score(y_test,y_pred)\n",
    "    f1score_train=f1_score(y_train,y_pred_train)\n",
    "    acc_train=accuracy_score(y_train,y_pred_train)\n",
    "    acc_test=accuracy_score(y_test,y_pred)\n",
    "    temp=[nbrs,round(acc_train,3),round(acc_test,3),round(f1score_train,3),round(f1score_train,3)]\n",
    "    result.append(temp)\n",
    "    if nbrs==11:\n",
    "        print(confusion_matrix(y_test,y_pred))\n",
    "df_results=pd.DataFrame(result, columns=[\"Neighbors\", \"Accuracy Train\", \"Accuracy Test\", \"F1 Score Train\", \"F1 Score Test\" ])\n",
    "print(df_results)"
   ]
  },
  {
   "cell_type": "code",
   "execution_count": 26,
   "id": "3fc4a7f4-7366-438a-9bd8-58128e6e9359",
   "metadata": {},
   "outputs": [
    {
     "data": {
      "image/png": "[encoded data removed]",
      "text/plain": [
       "<Figure size 432x288 with 1 Axes>"
      ]
     },
     "metadata": {
      "needs_background": "light"
     },
     "output_type": "display_data"
    }
   ],
   "source": [
    "model=KNeighborsClassifier(n_neighbors=15,p=2,metric='minkowski')\n",
    "title=\"K-Nearest Neighbors Learning Curve\"\n",
    "trainingSizes,trainingScores,testingScores = learning_curve(model,X,y,random_state = 42,cv = 10)\n",
    "plt.figure()\n",
    "plt.title(title)\n",
    "ylim = (0.4, .9)\n",
    "if ylim is not None:\n",
    "    plt.ylim(*ylim)\n",
    "        \n",
    "plt.xlabel(\"Training examples\")\n",
    "plt.ylabel(\"Score\")\n",
    "    \n",
    "trainingScores_std = np.std(trainingScores, axis=1)\n",
    "trainingScores_mean = np.mean(trainingScores, axis=1)\n",
    "testingScores_mean = np.mean(testingScores, axis=1)\n",
    "testingScores_std = np.std(testingScores, axis=1)\n",
    "plt.grid()\n",
    "\n",
    "plt.fill_between(trainingSizes, trainingScores_mean - trainingScores_std,\n",
    "                trainingScores_mean + trainingScores_std, alpha=0.1,\n",
    "                color=\"y\")\n",
    "plt.fill_between(trainingSizes, testingScores_mean - testingScores_std,\n",
    "                testingScores_mean + testingScores_std, alpha=0.1, color=\"b\")\n",
    "plt.plot(trainingSizes, trainingScores_mean, 'o-', color=\"y\",\n",
    "        label=\"Training score\")\n",
    "plt.plot(trainingSizes, testingScores_mean, 'o-', color=\"b\",\n",
    "        label=\"Cross-validation score\")\n",
    "\n",
    "plt.legend(loc=\"best\")\n",
    "plt.show()"
   ]
  },
  {
   "cell_type": "code",
   "execution_count": null,
   "id": "cd5005cd-02e0-4ff3-be06-bd5fe0450a3d",
   "metadata": {},
   "outputs": [],
   "source": []
  }
 ],
 "metadata": {
  "kernelspec": {
   "display_name": "Python 3 (ipykernel)",
   "language": "python",
   "name": "python3"
  },
  "language_info": {
   "codemirror_mode": {
    "name": "ipython",
    "version": 3
   },
   "file_extension": ".py",
   "mimetype": "text/x-python",
   "name": "python",
   "nbconvert_exporter": "python",
   "pygments_lexer": "ipython3",
   "version": "3.9.12"
  }
 },
 "nbformat": 4,
 "nbformat_minor": 5
}
