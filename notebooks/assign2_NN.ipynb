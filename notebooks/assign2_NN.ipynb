{
 "cells": [
  {
   "cell_type": "code",
   "execution_count": 373,
   "id": "6d234e75-b2c2-4adc-a8e1-b186fdbe2962",
   "metadata": {},
   "outputs": [],
   "source": [
    "import pandas as pd\n",
    "import numpy as np\n",
    "import torch\n",
    "import time\n",
    "import math\n",
    "import random\n",
    "import matplotlib.pyplot as plt\n",
    "import torch.nn as nn  #allthe nn modules\n",
    "import torch.optim as optim #optimization algorithms Adam\n",
    "from sklearn.model_selection import train_test_split\n",
    "from sklearn.metrics import accuracy_score\n",
    "from sklearn.preprocessing import StandardScaler\n",
    "from sklearn.model_selection import learning_curve\n",
    "import torchvision \n",
    "import torchvision.transforms as transforms\n",
    "df=pd.read_csv(\"dataSets/titanic.csv\")"
   ]
  },
  {
   "cell_type": "code",
   "execution_count": 67,
   "id": "629f130e-6235-4299-8884-e7627276cf47",
   "metadata": {},
   "outputs": [],
   "source": [
    "del df[\"PassengerId\"]\n",
    "del df[\"Name\"]\n",
    "del df[\"Ticket\"]\n",
    "del df[\"Cabin\"]\n",
    "df['Sex']=df['Sex'].replace(to_replace='male',value='1')\n",
    "df['Sex']=df['Sex'].replace(to_replace='female',value='0')\n",
    "df['Embarked']=df['Embarked'].replace(to_replace='S',value='0')\n",
    "df['Embarked']=df['Embarked'].replace(to_replace='C',value='1')\n",
    "df['Embarked']=df['Embarked'].replace(to_replace='Q',value='2')\n",
    "df=df.dropna()\n",
    "y=df['Survived']\n",
    "y_temp=df['Survived']\n",
    "X=df.drop(['Survived'],axis=1)\n",
    "#y_temp=y_temp.reset_index(drop=True)\n",
    "y=y.reset_index(drop=True)\n",
    "X=X.reset_index(drop=True)\n",
    "X_train, X_test, y_train, y_test = train_test_split(X, y, test_size = 0.25, random_state = 25)  #same as DT\n",
    "sc_X=StandardScaler()\n",
    "X_train=sc_X.fit_transform(X_train)\n",
    "X_test=sc_X.fit_transform(X_test)\n",
    "X_train=torch.tensor(X_train)\n",
    "y_train=torch.tensor(y_train.astype(float).values)  #this is still a data frame\n",
    "X_test=torch.tensor(X_test)\n",
    "y_test=torch.tensor(y_test.astype(float).values)\n",
    "y_train=torch.reshape(y_train,(X_train.size()[0],1))\n",
    "y_test=torch.reshape(y_test,(X_test.size()[0],1))\n",
    "\n",
    "n_input, n_hidden, n_out, batch_size, learning_rate = 7, 5, 1, X_train.size()[0], 0.01"
   ]
  },
  {
   "cell_type": "code",
   "execution_count": 383,
   "id": "091edbc4-3fdb-498c-b901-320b7f18190b",
   "metadata": {},
   "outputs": [],
   "source": [
    "def acc_func(y_pred,y_train):\n",
    "    correct=0\n",
    "    total=0\n",
    "    TP=0\n",
    "    FP=0\n",
    "    TN=0\n",
    "    FN=0\n",
    "    for i in range(y_pred.size()[0]):\n",
    "        m=y_pred[i].float()\n",
    "        t=y_train[i].item()\n",
    "        if m<.5:\n",
    "            rounded=0\n",
    "        else:\n",
    "            rounded=1\n",
    "        if t>0 and (rounded-t)==0:\n",
    "            TP=TP+1\n",
    "        if t==0 and (rounded-t)==0:\n",
    "            TN=TN+1\n",
    "        if t>0 and (rounded-t)!=0:\n",
    "            FN=FN+1\n",
    "        if t==0 and (rounded-t)!=0:\n",
    "            FP=FP+1    \n",
    "        total+=1    \n",
    "    accuracy=(TP+TN)/(TP+TN+FN+FP)\n",
    "    return accuracy\n",
    "\n",
    "model = nn.Sequential(  #Sequential lives inside the nueral network class\n",
    "                      nn.Linear(n_input, n_hidden),\n",
    "                      nn.ReLU(),\n",
    "                      nn.Linear(n_hidden, n_out),\n",
    "                      nn.Sigmoid())\n",
    "\n",
    "def RHC_proposed(weight0, weight2,T):\n",
    "    weight_list0=weight0.tolist()\n",
    "    weight_list2=weight2.tolist()\n",
    "    cov1=T*np.diag(np.ones(7))\n",
    "    cov2=T*np.diag(np.ones(5))\n",
    "    prop1=[]\n",
    "    prop2=[]\n",
    "    for i in range(5):\n",
    "        mn=weight_list0[i]\n",
    "        temp=np.random.multivariate_normal(mn,cov1)\n",
    "        prop1.append(temp.tolist())\n",
    "    temp=np.random.multivariate_normal(weight_list2[0],cov2).tolist()  \n",
    "    prop2.append(temp)\n",
    "    prop1=torch.tensor(prop1)\n",
    "    prop2=torch.tensor(prop2)\n",
    "    return prop1, prop2"
   ]
  },
  {
   "cell_type": "code",
   "execution_count": 384,
   "id": "02f801e6-2684-4a1c-a568-68771564d24f",
   "metadata": {},
   "outputs": [
    {
     "name": "stdout",
     "output_type": "stream",
     "text": [
      "Producing best fit model for NN 14.8836 seconds\n"
     ]
    }
   ],
   "source": [
    "losses=[]\n",
    "losses_test=[]\n",
    "accuracy=[]\n",
    "accuracy_test=[]\n",
    "T=.001\n",
    "\n",
    "tic = time.perf_counter()\n",
    "for i in range(1000):\n",
    "    y_pred=model(X_train.float())\n",
    "    y_pred_test=model(X_test.float())\n",
    "    loss=sum((y_pred-y_train)**2)/y_train.shape[0]\n",
    "    \n",
    "    loss_test=sum((y_pred_test-y_test)**2)/y_test.shape[0]\n",
    "    acc=acc_func(y_pred,y_train)\n",
    "    acc_test=acc_func(y_pred_test,y_test)\n",
    "    accuracy.append(acc)\n",
    "    accuracy_test.append(acc_test)\n",
    "    losses.append(loss.item())\n",
    "    losses_test.append(loss_test.item())\n",
    "    \n",
    "    one=loss.tolist()    \n",
    "    wght0=(model[0].weight)\n",
    "    wght2=(model[2].weight)\n",
    "    prop0,prop2=RHC_proposed(wght0,wght2,T)\n",
    "    model[0].weight=nn.Parameter(prop0)\n",
    "    model[2].weight=nn.Parameter(prop2)\n",
    "    y_pred=model(X_train.float())\n",
    "    y_pred_test=model(X_test.float())\n",
    "    loss=sum((y_pred-y_train)**2)/y_train.shape[0]\n",
    "    two=loss.tolist()\n",
    "    diff=one[0]-two[0]\n",
    "    if diff<0:\n",
    "        model[0].weight=nn.Parameter(wght0)\n",
    "        model[2].weight=nn.Parameter(wght2)\n",
    "    \n",
    "    \n",
    "toc = time.perf_counter()\n",
    "print(f\"Producing best fit model for NN {toc - tic:0.4f} seconds\")\n"
   ]
  },
  {
   "cell_type": "code",
   "execution_count": 385,
   "id": "4c86b6e5-7ff9-4787-9b0f-77304fa6f267",
   "metadata": {},
   "outputs": [],
   "source": [
    "for i in range(len(losses)-1):\n",
    "    if losses[i+1]-losses[i]>0:\n",
    "       print(losses[i+1]-losses[i])           "
   ]
  },
  {
   "cell_type": "code",
   "execution_count": 386,
   "id": "54cb2ab2-ead5-4acf-b17a-7ca77df773c6",
   "metadata": {},
   "outputs": [
    {
     "name": "stdout",
     "output_type": "stream",
     "text": [
      "accuracy:  0.848314606741573\n",
      "f1_score:  0.7990074441687345\n"
     ]
    }
   ],
   "source": [
    "#train\n",
    "correct=0\n",
    "total=0\n",
    "TP=0\n",
    "FP=0\n",
    "TN=0\n",
    "FN=0\n",
    "for i in range(X_train.size()[0]):\n",
    "    m=model(X_train[i].float())[0].item()\n",
    "    t=y_train[i].item()\n",
    "    if m<.5:\n",
    "        rounded=0\n",
    "    else:\n",
    "        rounded=1\n",
    "    if t>0 and (rounded-t)==0:\n",
    "        TP=TP+1\n",
    "    if t==0 and (rounded-t)==0:\n",
    "        TN=TN+1\n",
    "    if t>0 and (rounded-t)!=0:\n",
    "        FN=FN+1\n",
    "    if t==0 and (rounded-t)!=0:\n",
    "        FP=FP+1    \n",
    "    total+=1    \n",
    "    \n",
    "print(\"accuracy: \",(TP+TN)/(TP+TN+FN+FP))\n",
    "recall=TP/(FN+TP)\n",
    "prec=TP/(FP+TP)\n",
    "print(\"f1_score: \",2*(recall*prec)/(recall+prec))"
   ]
  },
  {
   "cell_type": "code",
   "execution_count": 387,
   "id": "6d73268b-f4dd-42a9-8561-02adf2348d5f",
   "metadata": {},
   "outputs": [
    {
     "name": "stdout",
     "output_type": "stream",
     "text": [
      "accuracy:  0.8089887640449438\n",
      "f1_score:  0.746268656716418\n"
     ]
    }
   ],
   "source": [
    "#test\n",
    "correct=0\n",
    "total=0\n",
    "TP=0\n",
    "FP=0\n",
    "TN=0\n",
    "FN=0\n",
    "for i in range(X_test.size()[0]):\n",
    "    m=model(X_test[i].float())[0].item()\n",
    "    t=y_test[i].item()\n",
    "    if m<.5:\n",
    "        rounded=0\n",
    "    else:\n",
    "        rounded=1\n",
    "    if t>0 and (rounded-t)==0:\n",
    "        TP=TP+1\n",
    "    if t==0 and (rounded-t)==0:\n",
    "        TN=TN+1\n",
    "    if t>0 and (rounded-t)!=0:\n",
    "        FN=FN+1\n",
    "    if t==0 and (rounded-t)!=0:\n",
    "        FP=FP+1    \n",
    "    total+=1    \n",
    "    \n",
    "print(\"accuracy: \",(TP+TN)/(TP+TN+FN+FP))\n",
    "recall=TP/(FN+TP)\n",
    "prec=TP/(FP+TP)\n",
    "print(\"f1_score: \",2*(recall*prec)/(recall+prec))"
   ]
  },
  {
   "cell_type": "code",
   "execution_count": 179,
   "id": "fc188078-a703-4ca9-a3e0-d4116b993a95",
   "metadata": {},
   "outputs": [
    {
     "data": {
      "image/png": "[encoded data removed]",
      "text/plain": [
       "<Figure size 432x288 with 1 Axes>"
      ]
     },
     "metadata": {
      "needs_background": "light"
     },
     "output_type": "display_data"
    }
   ],
   "source": [
    "\n",
    "plt.plot(losses, color=\"y\",\n",
    "        label=\"Training Data\")\n",
    "plt.plot(losses_test, color=\"b\",\n",
    "        label=\"Testing Data\")\n",
    "plt.grid()\n",
    "plt.ylabel('loss')\n",
    "plt.xlabel('epoch')\n",
    "plt.title(\"Hill Climber Weight Updates\")\n",
    "plt.legend(loc=\"best\")\n",
    "plt.show()    \n"
   ]
  },
  {
   "cell_type": "code",
   "execution_count": 180,
   "id": "7da60ae7-7c6e-4a08-9888-6fa465153668",
   "metadata": {},
   "outputs": [
    {
     "data": {
      "image/png": "[encoded data removed]",
      "text/plain": [
       "<Figure size 432x288 with 1 Axes>"
      ]
     },
     "metadata": {
      "needs_background": "light"
     },
     "output_type": "display_data"
    }
   ],
   "source": [
    "plt.plot(accuracy, color=\"y\",\n",
    "        label=\"Training Data\")\n",
    "plt.plot(accuracy_test, color=\"b\",\n",
    "        label=\"Testing Data\")\n",
    "\n",
    "plt.grid()\n",
    "plt.ylabel('accuracy')\n",
    "plt.xlabel('epoch')\n",
    "plt.title(\"Titanic Learning Curve Neural Network\")\n",
    "plt.legend(loc=\"best\")\n",
    "plt.show()   "
   ]
  },
  {
   "cell_type": "code",
   "execution_count": null,
   "id": "6d095f2d-9acc-4231-8bc0-cc1480a98b48",
   "metadata": {},
   "outputs": [],
   "source": []
  },
  {
   "cell_type": "code",
   "execution_count": 377,
   "id": "1d631fe8-3937-41f5-970b-08ed086e245f",
   "metadata": {},
   "outputs": [],
   "source": [
    "#SA\n",
    "def acc_func(y_pred,y_train):\n",
    "    correct=0\n",
    "    total=0\n",
    "    TP=0\n",
    "    FP=0\n",
    "    TN=0\n",
    "    FN=0\n",
    "    for i in range(y_pred.size()[0]):\n",
    "        m=y_pred[i].float()\n",
    "        t=y_train[i].item()\n",
    "        if m<.5:\n",
    "            rounded=0\n",
    "        else:\n",
    "            rounded=1\n",
    "        if t>0 and (rounded-t)==0:\n",
    "            TP=TP+1\n",
    "        if t==0 and (rounded-t)==0:\n",
    "            TN=TN+1\n",
    "        if t>0 and (rounded-t)!=0:\n",
    "            FN=FN+1\n",
    "        if t==0 and (rounded-t)!=0:\n",
    "            FP=FP+1    \n",
    "        total+=1    \n",
    "    accuracy=(TP+TN)/(TP+TN+FN+FP)\n",
    "    return accuracy\n",
    "\n",
    "model = nn.Sequential(  #Sequential lives inside the nueral network class\n",
    "                      nn.Linear(n_input, n_hidden),\n",
    "                      nn.ReLU(),\n",
    "                      nn.Linear(n_hidden, n_out),\n",
    "                      nn.Sigmoid())\n",
    "\n",
    "def proposed(weight0, weight2,sig):\n",
    "    weight_list0=weight0.tolist()\n",
    "    weight_list2=weight2.tolist()\n",
    "    cov1=sig*np.diag(np.ones(7))\n",
    "    cov2=sig*np.diag(np.ones(5))\n",
    "    prop1=[]\n",
    "    prop2=[]\n",
    "    for i in range(5):\n",
    "        mn=weight_list0[i]\n",
    "        temp=np.random.multivariate_normal(mn,cov1)\n",
    "        prop1.append(temp.tolist())\n",
    "    temp=np.random.multivariate_normal(weight_list2[0],cov2).tolist()  \n",
    "    prop2.append(temp)\n",
    "    prop1=torch.tensor(prop1)\n",
    "    prop2=torch.tensor(prop2)\n",
    "    return prop1, prop2"
   ]
  },
  {
   "cell_type": "code",
   "execution_count": 378,
   "id": "6896f74e-f8dc-4894-a35c-7373dd447dff",
   "metadata": {},
   "outputs": [
    {
     "name": "stdout",
     "output_type": "stream",
     "text": [
      "Producing best fit model for NN 146.4857 seconds\n"
     ]
    }
   ],
   "source": [
    "#SA\n",
    "losses=[]\n",
    "losses_test=[]\n",
    "accuracy=[]\n",
    "accuracy_test=[]\n",
    "iterations=10000\n",
    "sig=.001\n",
    "T=.01\n",
    "\n",
    "tic = time.perf_counter()\n",
    "for i in range(iterations):\n",
    "    y_pred=model(X_train.float())\n",
    "    y_pred_test=model(X_test.float())\n",
    "    loss=sum((y_pred-y_train)**2)/y_train.shape[0]\n",
    "    \n",
    "    loss_test=sum((y_pred_test-y_test)**2)/y_test.shape[0]\n",
    "    acc=acc_func(y_pred,y_train)\n",
    "    acc_test=acc_func(y_pred_test,y_test)\n",
    "    accuracy.append(acc)\n",
    "    accuracy_test.append(acc_test)\n",
    "    losses.append(loss.item())\n",
    "    losses_test.append(loss_test.item())\n",
    "    \n",
    "    one=loss.tolist()    \n",
    "    wght0=(model[0].weight)\n",
    "    wght2=(model[2].weight)\n",
    "    prop0,prop2=proposed(wght0,wght2,sig)\n",
    "    model[0].weight=nn.Parameter(prop0)\n",
    "    model[2].weight=nn.Parameter(prop2)\n",
    "    y_pred=model(X_train.float())\n",
    "    y_pred_test=model(X_test.float())\n",
    "    loss=sum((y_pred-y_train)**2)/y_train.shape[0]\n",
    "    two=loss.tolist()\n",
    "    diff=one[0]-two[0]\n",
    "    if diff<0:\n",
    "        model[0].weight=nn.Parameter(wght0)\n",
    "        model[2].weight=nn.Parameter(wght2)\n",
    "    elif math.log(np.random.rand())*T>diff:\n",
    "        model[0].weight=nn.Parameter(wght0)\n",
    "        model[2].weight=nn.Parameter(wght2)\n",
    "    T=(iterations-i)/iterations\n",
    "    \n",
    "toc = time.perf_counter()\n",
    "print(f\"Producing best fit model for NN {toc - tic:0.4f} seconds\")\n"
   ]
  },
  {
   "cell_type": "code",
   "execution_count": 379,
   "id": "3d2a3ec6-0d54-45e6-b2e4-0a5bbd1a2c9e",
   "metadata": {},
   "outputs": [
    {
     "name": "stdout",
     "output_type": "stream",
     "text": [
      "accuracy:  0.8520599250936329\n",
      "f1_score:  0.8010075566750628\n"
     ]
    }
   ],
   "source": [
    "#train\n",
    "correct=0\n",
    "total=0\n",
    "TP=0\n",
    "FP=0\n",
    "TN=0\n",
    "FN=0\n",
    "for i in range(X_train.size()[0]):\n",
    "    m=model(X_train[i].float())[0].item()\n",
    "    t=y_train[i].item()\n",
    "    if m<.5:\n",
    "        rounded=0\n",
    "    else:\n",
    "        rounded=1\n",
    "    if t>0 and (rounded-t)==0:\n",
    "        TP=TP+1\n",
    "    if t==0 and (rounded-t)==0:\n",
    "        TN=TN+1\n",
    "    if t>0 and (rounded-t)!=0:\n",
    "        FN=FN+1\n",
    "    if t==0 and (rounded-t)!=0:\n",
    "        FP=FP+1    \n",
    "    total+=1    \n",
    "    \n",
    "print(\"accuracy: \",(TP+TN)/(TP+TN+FN+FP))\n",
    "recall=TP/(FN+TP)\n",
    "prec=TP/(FP+TP)\n",
    "print(\"f1_score: \",2*(recall*prec)/(recall+prec))"
   ]
  },
  {
   "cell_type": "code",
   "execution_count": 380,
   "id": "fcadf27a-16ef-45dc-89f5-3936f58c0239",
   "metadata": {},
   "outputs": [
    {
     "name": "stdout",
     "output_type": "stream",
     "text": [
      "accuracy:  0.8146067415730337\n",
      "f1_score:  0.7518796992481203\n"
     ]
    }
   ],
   "source": [
    "#test\n",
    "correct=0\n",
    "total=0\n",
    "TP=0\n",
    "FP=0\n",
    "TN=0\n",
    "FN=0\n",
    "for i in range(X_test.size()[0]):\n",
    "    m=model(X_test[i].float())[0].item()\n",
    "    t=y_test[i].item()\n",
    "    if m<.5:\n",
    "        rounded=0\n",
    "    else:\n",
    "        rounded=1\n",
    "    if t>0 and (rounded-t)==0:\n",
    "        TP=TP+1\n",
    "    if t==0 and (rounded-t)==0:\n",
    "        TN=TN+1\n",
    "    if t>0 and (rounded-t)!=0:\n",
    "        FN=FN+1\n",
    "    if t==0 and (rounded-t)!=0:\n",
    "        FP=FP+1    \n",
    "    total+=1    \n",
    "    \n",
    "print(\"accuracy: \",(TP+TN)/(TP+TN+FN+FP))\n",
    "recall=TP/(FN+TP)\n",
    "prec=TP/(FP+TP)\n",
    "print(\"f1_score: \",2*(recall*prec)/(recall+prec))"
   ]
  },
  {
   "cell_type": "code",
   "execution_count": 381,
   "id": "bccd9b49-07e6-4453-b263-3e5efbc0e5c2",
   "metadata": {},
   "outputs": [
    {
     "data": {
      "image/png": "[encoded data removed]",
      "text/plain": [
       "<Figure size 432x288 with 1 Axes>"
      ]
     },
     "metadata": {
      "needs_background": "light"
     },
     "output_type": "display_data"
    }
   ],
   "source": [
    "plt.plot(losses, color=\"y\",\n",
    "        label=\"Training Data\")\n",
    "plt.plot(losses_test, color=\"b\",\n",
    "        label=\"Testing Data\")\n",
    "plt.grid()\n",
    "plt.ylabel('loss')\n",
    "plt.xlabel('epoch')\n",
    "plt.title(\"Weight Updates with Simmulated Annealing\")\n",
    "plt.legend(loc=\"best\")\n",
    "plt.show()    "
   ]
  },
  {
   "cell_type": "code",
   "execution_count": 382,
   "id": "c8daeb6c-3125-4c1c-b44a-846628dc2f89",
   "metadata": {},
   "outputs": [
    {
     "data": {
      "image/png": "[encoded data removed]",
      "text/plain": [
       "<Figure size 432x288 with 1 Axes>"
      ]
     },
     "metadata": {
      "needs_background": "light"
     },
     "output_type": "display_data"
    }
   ],
   "source": [
    "plt.plot(accuracy, color=\"y\",\n",
    "        label=\"Training Data\")\n",
    "plt.plot(accuracy_test, color=\"b\",\n",
    "        label=\"Testing Data\")\n",
    "\n",
    "plt.grid()\n",
    "plt.ylabel('accuracy')\n",
    "plt.xlabel('epoch')\n",
    "plt.title(\"Learning Curve Titanic Data Set SA updated weights\")\n",
    "plt.legend(loc=\"best\")\n",
    "plt.show()   "
   ]
  },
  {
   "cell_type": "code",
   "execution_count": null,
   "id": "3cff9a58-a644-461a-a62b-43b23644fd6e",
   "metadata": {},
   "outputs": [],
   "source": []
  },
  {
   "cell_type": "code",
   "execution_count": 359,
   "id": "2eaab4c0-9920-46c5-a1b4-528f80de19a0",
   "metadata": {},
   "outputs": [],
   "source": [
    "#GA\n",
    "\n",
    "def acc_func(y_pred,y_train):\n",
    "    correct=0\n",
    "    total=0\n",
    "    TP=0\n",
    "    FP=0\n",
    "    TN=0\n",
    "    FN=0\n",
    "    for i in range(y_pred.size()[0]):\n",
    "        m=y_pred[i].float()\n",
    "        t=y_train[i].item()\n",
    "        if m<.5:\n",
    "            rounded=0\n",
    "        else:\n",
    "            rounded=1\n",
    "        if t>0 and (rounded-t)==0:\n",
    "            TP=TP+1\n",
    "        if t==0 and (rounded-t)==0:\n",
    "            TN=TN+1\n",
    "        if t>0 and (rounded-t)!=0:\n",
    "            FN=FN+1\n",
    "        if t==0 and (rounded-t)!=0:\n",
    "            FP=FP+1    \n",
    "        total+=1    \n",
    "    accuracy=(TP+TN)/(TP+TN+FN+FP)\n",
    "    return accuracy\n",
    "\n",
    "\n",
    "def init_pop(weight0,weight2,pop_size,sig):\n",
    "    pop_weight_array=[]\n",
    "    weight_list0=weight0.tolist()\n",
    "    weight_list2=weight2.tolist()\n",
    "    cov1=sig*np.diag(np.ones(7))\n",
    "    cov2=sig*np.diag(np.ones(5))\n",
    "    for j in range(pop_size):\n",
    "        prop1=[]\n",
    "        prop2=[]\n",
    "        for i in range(5):\n",
    "            mn=weight_list0[i]\n",
    "            temp=np.random.multivariate_normal(mn,cov1)\n",
    "            prop1.append(temp.tolist())\n",
    "        temp=np.random.multivariate_normal(weight_list2[0],cov2).tolist()  \n",
    "        prop2.append(temp)\n",
    "        prop1=torch.tensor(prop1)\n",
    "        prop2=torch.tensor(prop2)\n",
    "        pop_weight_array.append([prop1,prop2])\n",
    "    return pop_weight_array    \n",
    "\n",
    "def rack_n_stack(pop,p_keep):    \n",
    "    n = len(pop)\n",
    "    keep=math.ceil(n*p_keep)\n",
    "    next_gen=[]\n",
    "    score_array=[]\n",
    "    y_pred_test=model(X_test.float())\n",
    "    for i in range(len(pop)):\n",
    "        a1=pop[i][0].tolist()\n",
    "        b1=pop[i][1].tolist()\n",
    "        a1=torch.tensor(a1)\n",
    "        b1=torch.tensor(b1)\n",
    "        model[0].weight=nn.Parameter(a1)\n",
    "        model[2].weight=nn.Parameter(b1)\n",
    "        y_pred=model(X_train.float())\n",
    "        loss=sum((y_pred-y_train)**2)/y_train.shape[0]\n",
    "        score_array.append(loss)\n",
    "    for i in range(n):\n",
    "        sort_comp = True\n",
    "        for j in range(n - i - 1):\n",
    "            if score_array[j] > score_array[j + 1]:\n",
    "                score_array[j+1], score_array[j] = score_array[j], score_array[j+1]\n",
    "                pop[j+1], pop[j] = pop[j], pop[j+1]\n",
    "                sort_comp = False\n",
    "        if sort_comp:\n",
    "            break\n",
    "    next_gen=pop[:keep]        \n",
    "    return next_gen\n",
    "        \n",
    "def cross_mutate(next_gen,tot,mutation_rate):\n",
    "    n=len(next_gen)\n",
    "    num_children=tot-n\n",
    "    zero_pos=list(range(5))\n",
    "    pop_coords=list(range(len(res)))\n",
    "    \n",
    "    for j in range(num_children):\n",
    "        parent_coords=random.sample(pop_coords, 2)\n",
    "        dad=next_gen[parent_coords[0]]\n",
    "        mom=next_gen[parent_coords[1]]\n",
    "        dad_genes=random.randint(0, 4)\n",
    "        mom_genes=4-dad_genes\n",
    "        dad_coord=np.random.choice(zero_pos,dad_genes)\n",
    "        mom_coord=list(set(zero_pos)-set(dad_coord))\n",
    "        top=np.zeros((5,7))\n",
    "        bottom=np.zeros(5)\n",
    "        t=torch.tensor(top)\n",
    "        b=torch.tensor(bottom)\n",
    "        child=[t,b]\n",
    "      \n",
    "        for i in range(len(dad_coord)):\n",
    "            child[0][dad_coord[i]]=dad[0][dad_coord[i]]\n",
    "        for i in range(len(mom_coord)):\n",
    "            child[0][mom_coord[i]]=mom[0][mom_coord[i]]\n",
    "        if len(dad_coord)>len(mom_coord):\n",
    "            child[1]=mom[1]#.astype(float64).values\n",
    "        else:\n",
    "            child[1]=dad[1]\n",
    "        if(np.random.uniform()<mutation_rate):  \n",
    "            mut_pos=random.randint(0,5)\n",
    "            if mut_pos==5:\n",
    "                mn=child[1].tolist()\n",
    "                mn=mn[0]\n",
    "                cov=.0001*np.diag(np.ones(5))\n",
    "                temp=np.random.multivariate_normal(mn,cov)\n",
    "                temp1=torch.tensor(temp)\n",
    "            else:\n",
    "                mn=child[0][mut_pos]\n",
    "                cov=.0001*np.diag(np.ones(7))\n",
    "                temp=np.random.multivariate_normal(mn,cov)\n",
    "                temp1=torch.tensor(temp)\n",
    "            if mut_pos==5:\n",
    "                child[1][0]=temp1\n",
    "            else:\n",
    "                child[0][mut_pos]=temp1\n",
    "        next_gen.append(child)\n",
    "    return next_gen\n",
    "    \n",
    "    \n"
   ]
  },
  {
   "cell_type": "code",
   "execution_count": 368,
   "id": "d9aadbbf-5f56-4180-9da9-06ffe8c11fe8",
   "metadata": {},
   "outputs": [
    {
     "name": "stdout",
     "output_type": "stream",
     "text": [
      "0\n",
      "500\n",
      "1000\n",
      "1500\n",
      "2000\n",
      "2500\n",
      "3000\n",
      "3500\n",
      "4000\n",
      "4500\n",
      "5000\n",
      "5500\n",
      "6000\n",
      "6500\n",
      "7000\n",
      "7500\n",
      "8000\n",
      "8500\n",
      "9000\n",
      "9500\n"
     ]
    }
   ],
   "source": [
    "#GA\n",
    "\n",
    "model = nn.Sequential(  #Sequential lives inside the nueral network class\n",
    "                      nn.Linear(n_input, n_hidden),\n",
    "                      nn.ReLU(),\n",
    "                      nn.Linear(n_hidden, n_out),\n",
    "                      nn.Sigmoid())\n",
    "\n",
    "losses=[]\n",
    "losses_test=[]\n",
    "accuracy=[]\n",
    "accuracy_test=[]\n",
    "iterations=10000\n",
    "mutation_rate=.1\n",
    "init_weight0=model[0].weight\n",
    "init_weight2=model[2].weight\n",
    "pop_size=5\n",
    "sig=.001\n",
    "p_keep=.5\n",
    "\n",
    "\n",
    "new_pop=init_pop(init_weight0,init_weight2,pop_size,sig) \n",
    "\n",
    "for i in range(iterations):\n",
    "    if i%500==0:\n",
    "        print(i)\n",
    "    next_gen=rack_n_stack(new_pop,p_keep)\n",
    "    #for each in next_gen:\n",
    "        #print(each)\n",
    "    whos_num_one=next_gen[0]\n",
    "    a0=whos_num_one[0].tolist()\n",
    "    a0=torch.tensor(a0)\n",
    "    b0=whos_num_one[1].tolist()\n",
    "    b0=torch.tensor(b0)\n",
    "\n",
    "    model[0].weight=nn.Parameter(a0)\n",
    "    model[2].weight=nn.Parameter(b0)\n",
    "    \n",
    "    y_pred=model(X_train.float())\n",
    "    y_pred_test=model(X_test.float())\n",
    "    loss=sum((y_pred-y_train)**2)/y_train.shape[0]    \n",
    "    loss_test=sum((y_pred_test-y_test)**2)/y_test.shape[0]\n",
    "    acc=acc_func(y_pred,y_train)\n",
    "    acc_test=acc_func(y_pred_test,y_test)\n",
    "    accuracy.append(acc)\n",
    "    accuracy_test.append(acc_test)\n",
    "    losses.append(loss.item())\n",
    "    losses_test.append(loss_test.item())\n",
    "    new_pop=cross_mutate(next_gen,pop_size,mutation_rate)\n",
    "    #print(\" \")\n",
    "    #for each in new_pop:\n",
    "    #    print(each)\n"
   ]
  },
  {
   "cell_type": "code",
   "execution_count": 370,
   "id": "ea628c84-a683-4697-af1e-b9c50c86a785",
   "metadata": {},
   "outputs": [
    {
     "name": "stdout",
     "output_type": "stream",
     "text": [
      "accuracy:  0.7808988764044944\n",
      "f1_score:  0.7536842105263157\n"
     ]
    }
   ],
   "source": [
    "\n",
    "#train\n",
    "correct=0\n",
    "total=0\n",
    "TP=0\n",
    "FP=0\n",
    "TN=0\n",
    "FN=0\n",
    "for i in range(X_train.size()[0]):\n",
    "    m=model(X_train[i].float())[0].item()\n",
    "    t=y_train[i].item()\n",
    "    if m<.5:\n",
    "        rounded=0\n",
    "    else:\n",
    "        rounded=1\n",
    "    if t>0 and (rounded-t)==0:\n",
    "        TP=TP+1\n",
    "    if t==0 and (rounded-t)==0:\n",
    "        TN=TN+1\n",
    "    if t>0 and (rounded-t)!=0:\n",
    "        FN=FN+1\n",
    "    if t==0 and (rounded-t)!=0:\n",
    "        FP=FP+1    \n",
    "    total+=1    \n",
    "    \n",
    "print(\"accuracy: \",(TP+TN)/(TP+TN+FN+FP))\n",
    "recall=TP/(FN+TP)\n",
    "prec=TP/(FP+TP)\n",
    "print(\"f1_score: \",2*(recall*prec)/(recall+prec))"
   ]
  },
  {
   "cell_type": "code",
   "execution_count": 371,
   "id": "08b51358-51cc-4530-8f6c-048d3adcee8e",
   "metadata": {},
   "outputs": [
    {
     "name": "stdout",
     "output_type": "stream",
     "text": [
      "accuracy:  0.7528089887640449\n",
      "f1_score:  0.7317073170731707\n"
     ]
    }
   ],
   "source": [
    "#test\n",
    "correct=0\n",
    "total=0\n",
    "TP=0\n",
    "FP=0\n",
    "TN=0\n",
    "FN=0\n",
    "for i in range(X_test.size()[0]):\n",
    "    m=model(X_test[i].float())[0].item()\n",
    "    t=y_test[i].item()\n",
    "    if m<.5:\n",
    "        rounded=0\n",
    "    else:\n",
    "        rounded=1\n",
    "    if t>0 and (rounded-t)==0:\n",
    "        TP=TP+1\n",
    "    if t==0 and (rounded-t)==0:\n",
    "        TN=TN+1\n",
    "    if t>0 and (rounded-t)!=0:\n",
    "        FN=FN+1\n",
    "    if t==0 and (rounded-t)!=0:\n",
    "        FP=FP+1    \n",
    "    total+=1    \n",
    "    \n",
    "print(\"accuracy: \",(TP+TN)/(TP+TN+FN+FP))\n",
    "recall=TP/(FN+TP)\n",
    "prec=TP/(FP+TP)\n",
    "print(\"f1_score: \",2*(recall*prec)/(recall+prec))"
   ]
  },
  {
   "cell_type": "code",
   "execution_count": 374,
   "id": "95cdceb8-c2cf-4fa6-b972-9e1de7b2b45a",
   "metadata": {},
   "outputs": [
    {
     "data": {
      "image/png": "[encoded data removed]",
      "text/plain": [
       "<Figure size 432x288 with 1 Axes>"
      ]
     },
     "metadata": {
      "needs_background": "light"
     },
     "output_type": "display_data"
    }
   ],
   "source": [
    "plt.plot(losses, color=\"y\",\n",
    "        label=\"Training Data\")\n",
    "plt.plot(losses_test, color=\"b\",\n",
    "        label=\"Testing Data\")\n",
    "plt.grid()\n",
    "plt.ylabel('loss')\n",
    "plt.xlabel('epoch')\n",
    "plt.title(\"Weight Updates with Genetic Algorithm\")\n",
    "plt.legend(loc=\"best\")\n",
    "plt.show()    "
   ]
  },
  {
   "cell_type": "code",
   "execution_count": 376,
   "id": "599b8de9-7e21-4337-ba18-9c3c340c98d2",
   "metadata": {},
   "outputs": [
    {
     "data": {
      "image/png": "[encoded data removed]",
      "text/plain": [
       "<Figure size 432x288 with 1 Axes>"
      ]
     },
     "metadata": {
      "needs_background": "light"
     },
     "output_type": "display_data"
    }
   ],
   "source": [
    "plt.plot(accuracy, color=\"y\",\n",
    "        label=\"Training Data\")\n",
    "plt.plot(accuracy_test, color=\"b\",\n",
    "        label=\"Testing Data\")\n",
    "\n",
    "plt.grid()\n",
    "plt.ylabel('accuracy')\n",
    "plt.xlabel('epoch')\n",
    "plt.title(\"Learning Curve Genetic Algorithm\")\n",
    "plt.legend(loc=\"best\")\n",
    "plt.show()   "
   ]
  },
  {
   "cell_type": "code",
   "execution_count": 389,
   "id": "ce4648b5-79ea-4a84-9782-11b4a7059e0e",
   "metadata": {},
   "outputs": [
    {
     "name": "stdout",
     "output_type": "stream",
     "text": [
      "[0.81, 0.75, 146.4]\n",
      "[0.79, 0.74, 15]\n",
      "[0.75, 0.73, 735]\n"
     ]
    }
   ],
   "source": [
    "SA=[0.81, 0.75,146.4]\n",
    "rhc=[.79, .74, 15]\n",
    "GA=[.75, .73, 735]\n",
    "\n",
    "print(SA)\n",
    "print(rhc)\n",
    "print(GA)"
   ]
  },
  {
   "cell_type": "code",
   "execution_count": null,
   "id": "b8e7b860-f088-4501-bb75-9fb92695b96e",
   "metadata": {},
   "outputs": [],
   "source": []
  }
 ],
 "metadata": {
  "kernelspec": {
   "display_name": "Python 3 (ipykernel)",
   "language": "python",
   "name": "python3"
  },
  "language_info": {
   "codemirror_mode": {
    "name": "ipython",
    "version": 3
   },
   "file_extension": ".py",
   "mimetype": "text/x-python",
   "name": "python",
   "nbconvert_exporter": "python",
   "pygments_lexer": "ipython3",
   "version": "3.9.12"
  }
 },
 "nbformat": 4,
 "nbformat_minor": 5
}
