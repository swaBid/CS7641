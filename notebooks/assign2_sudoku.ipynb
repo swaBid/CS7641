{
 "cells": [
  {
   "cell_type": "markdown",
   "id": "88e9eecd-e8c1-427a-9802-40ead13bc961",
   "metadata": {},
   "source": [
    "Robert Steward\n",
    "CS 7641 Assignment 2\n",
    "Sudoku problem implementation "
   ]
  },
  {
   "cell_type": "code",
   "execution_count": null,
   "id": "6ef7d1ab-1801-463a-8cbb-817db4266aec",
   "metadata": {},
   "outputs": [],
   "source": [
    "import numpy as np\n",
    "import matplotlib.pyplot as plt\n",
    "import math\n",
    "import random\n",
    "import time"
   ]
  },
  {
   "cell_type": "code",
   "execution_count": 28,
   "id": "0c562820-23bb-485a-8bc7-8626a7a6b2c7",
   "metadata": {},
   "outputs": [],
   "source": [
    "#SA\n",
    "\n",
    "bas=[1,2,3,4,5,6,7,8,9]\n",
    "\n",
    "def indices(input1):\n",
    "    arr = np.array(input1)\n",
    "    positions = np.where(arr == 0)[0]\n",
    "    return list(positions)\n",
    "\n",
    "def build_free(input1):  #builds a 2-d list with all the positions that can be changed\n",
    "    output=[]\n",
    "    for i in range(9):\n",
    "        zeros=indices(input1[i])\n",
    "        output.append(zeros)\n",
    "    return output    \n",
    "        \n",
    "def random_intialize(input):\n",
    "    output=[]\n",
    "    zero_pos=build_free(input)\n",
    "    for i in range(9):\n",
    "        temp=[]\n",
    "        for k in range(len(input[i])):\n",
    "            temp.append(input[i][k])\n",
    "        output.append(temp)                \n",
    "        diff = list(set(bas)-(set(input[i])))\n",
    "        for j in range(len(diff)):\n",
    "            val=random.choice(diff)\n",
    "            diff.remove(val)\n",
    "            output[i][zero_pos[i][j]]=val\n",
    "    return output    \n",
    "\n",
    "\n",
    "def max_flips(input1):\n",
    "    flips=build_free(input1)\n",
    "    count=0\n",
    "    for i in range(9):\n",
    "        count=count+(math.floor(len(flips[i])/2))\n",
    "    return count \n",
    "\n",
    "def flip_random(input1,zeros):\n",
    "    output=[]\n",
    "    for i in range(9):\n",
    "        temp=[]\n",
    "        for j in range(9):\n",
    "            temp.append(input1[i][j])\n",
    "        output.append(temp)    \n",
    "    rand_row_index=random.randint(0,8)\n",
    "    rand_row=[]\n",
    "    for j in range(len(zeros[rand_row_index])):\n",
    "        rand_row.append(zeros[rand_row_index][j])      \n",
    "    if(len(rand_row)>0):\n",
    "        first=random.choice(rand_row)\n",
    "        rand_row.remove(first)\n",
    "        second=random.choice(rand_row)\n",
    "        temp1=output[rand_row_index][first]\n",
    "        temp2=output[rand_row_index][second]\n",
    "        output[rand_row_index][first]=temp2\n",
    "        output[rand_row_index][second]=temp1\n",
    "    return output    \n",
    "\n",
    "def score(input1):\n",
    "    score=0\n",
    "    for i in range(3):\n",
    "        ypos_base=3*i\n",
    "        xpos_base=0\n",
    "        for k in range(3):\n",
    "            array=[]\n",
    "            xpos_base=3*k\n",
    "            for j in range(3):\n",
    "                array.append(input1[ypos_base+j][xpos_base])\n",
    "                array.append(input1[ypos_base+j][xpos_base+1])\n",
    "                array.append(input1[ypos_base+j][xpos_base+2])\n",
    "            diff=list(set(bas)-(set(array)))\n",
    "            score=score+len(diff)\n",
    "    ypos_base=0\n",
    "    xpos_base=0\n",
    "    for i in range(3):\n",
    "        ypos_base=i\n",
    "        for k in range(3):\n",
    "            xpos_base=k\n",
    "            array=[]\n",
    "            array.append(input1[ypos_base][xpos_base])\n",
    "            array.append(input1[ypos_base][xpos_base+3])\n",
    "            array.append(input1[ypos_base][xpos_base+6])\n",
    "            array.append(input1[ypos_base+3][xpos_base])\n",
    "            array.append(input1[ypos_base+3][xpos_base+3])\n",
    "            array.append(input1[ypos_base+3][xpos_base+6])\n",
    "            array.append(input1[ypos_base+6][xpos_base])\n",
    "            array.append(input1[ypos_base+6][xpos_base+3])\n",
    "            array.append(input1[ypos_base+6][xpos_base+6])\n",
    "            diff=list(set(bas)-(set(array)))\n",
    "            score=score+len(diff)\n",
    "    return score\n",
    "    \n",
    "    \n",
    "        \n",
    "def print_puzz(input1):\n",
    "    output=input1\n",
    "    pos1=0\n",
    "    for i in range(3):\n",
    "        print(\"-----------------------\")\n",
    "        ypos_base=3*i\n",
    "        row=\"|\"\n",
    "        xpos_base=0\n",
    "        for k in range(3):\n",
    "            xpos_base=3*k\n",
    "            for j in range(3):\n",
    "                row=row+\" \"+str(output[ypos_base+j][xpos_base])+\" \"+str(output[ypos_base+j][xpos_base+1])+\" \"+str(output[ypos_base+j][xpos_base+2])+\"|\"\n",
    "            print(row)\n",
    "            row=\"|\"\n"
   ]
  },
  {
   "cell_type": "code",
   "execution_count": 31,
   "id": "dbb94cd0-2570-4574-aa67-e0118b9768e6",
   "metadata": {},
   "outputs": [
    {
     "name": "stdout",
     "output_type": "stream",
     "text": [
      "-----------------------\n",
      "| 5 7 4| 1 2 6| 3 4 6|\n",
      "| 8 6 1| 7 3 5| 8 9 2|\n",
      "| 2 3 9| 8 9 4| 7 1 5|\n",
      "-----------------------\n",
      "| 3 8 4| 4 9 7| 2 6 1|\n",
      "| 7 1 6| 6 8 5| 3 5 9|\n",
      "| 9 2 5| 1 3 2| 4 8 7|\n",
      "-----------------------\n",
      "| 6 9 7| 9 6 2| 2 3 8|\n",
      "| 1 5 8| 5 1 7| 9 6 1|\n",
      "| 4 3 2| 4 8 3| 4 7 5|\n"
     ]
    }
   ],
   "source": [
    "#SA\n",
    "\n",
    "one=[0,7,0,0,6,0,2,0,0]\n",
    "two=[0,2,0,0,0,0,8,0,0]\n",
    "thr=[0,4,6,8,9,0,7,1,5]\n",
    "fur=[0,8,4,7,1,0,0,0,0]\n",
    "fiv=[0,9,7,0,0,0,1,3,0]\n",
    "six=[0,0,0,0,5,9,4,8,0]\n",
    "sev=[6,9,7,0,5,8,4,3,0]\n",
    "eit=[0,0,2,0,0,0,0,8,0]\n",
    "nin=[0,0,8,0,6,0,0,7,0]\n",
    "\n",
    "puzzle=[one,two,thr,fur,fiv,six,sev,eit,nin]\n",
    "zeros=build_free(puzzle)\n",
    "\n",
    "puzz1=random_intialize(puzzle)\n",
    "print_puzz(puzz1)\n"
   ]
  },
  {
   "cell_type": "code",
   "execution_count": 92,
   "id": "8f8ecd30-ec5f-4e80-884d-a4a1b721cc00",
   "metadata": {},
   "outputs": [
    {
     "name": "stdout",
     "output_type": "stream",
     "text": [
      "-----------------------\n",
      "| 1 7 5| 4 2 1| 3 4 6|\n",
      "| 9 6 8| 5 6 3| 8 9 2|\n",
      "| 2 3 4| 8 9 7| 7 1 5|\n",
      "-----------------------\n",
      "| 9 8 4| 5 9 7| 1 3 7|\n",
      "| 7 1 6| 8 6 4| 6 5 9|\n",
      "| 3 5 2| 1 3 2| 4 8 2|\n",
      "-----------------------\n",
      "| 6 9 7| 6 9 2| 3 2 8|\n",
      "| 1 5 8| 5 4 1| 5 6 4|\n",
      "| 4 3 2| 3 8 7| 9 7 1|\n",
      "start score  41\n",
      "[0, 0, 5, 0, 3, 2, 2, 3, 4, 2, 5, 0, 3, 0, 0, 0, 3, 2, 0, 0, 3, 5, 5, 0, 3, 0, 3, 2, 0, 0, 3, 2, 0, 2, 2, 0, 3, 0, 3, 4, 0, 0, 0, 4, 0, 3, 0, 0, 2, 0, 3, 0, 3, 2, 0, 0, 0, 0, 5, 2, 2, 0, 3, 5, 0, 0, 3, 0, 3, 3, 0, 7, 0, 2, 3, 2, 0, 0, 0, 4, 0, 3, 0, 3, 5, 3, 0, 0, 0, 2, 0, 2, 0, 0, 3, 5, 5, 0, 0, 2]\n"
     ]
    }
   ],
   "source": [
    "puzz1=random_intialize(puzzle)\n",
    "print_puzz(puzz1)\n",
    "print(\"start score \",score(puzz1))\n",
    "      \n",
    "def SA(puzz,iterations):\n",
    "    score1=score(puzz)\n",
    "    T=5\n",
    "    for i in range(iterations):\n",
    "        proposed=flip_random(puzz,zeros)\n",
    "        score2=score(proposed)\n",
    "        if score2<score1:\n",
    "            score1=score2\n",
    "            puzz=proposed\n",
    "        elif math.log(np.random.uniform())*T<(score1-score2):\n",
    "            puzz=proposed\n",
    "            score1=score2\n",
    "        if score2==0:\n",
    "            break\n",
    "        T=T*(iterations-i)/iterations   \n",
    "    return score(puzz)   \n",
    "    #print(score(puzz))\n",
    "    #print_puzz(puzz)\n",
    "\n",
    "score_array=[] \n",
    "time_array=[]\n",
    "for i in range(100):\n",
    "    tic = time.perf_counter()\n",
    "    a=SA(puzz1,100000)\n",
    "    score_array.append(a)\n",
    "    toc = time.perf_counter()\n",
    "    time_array.append(toc - tic)\n",
    "print(score_array)    "
   ]
  },
  {
   "cell_type": "code",
   "execution_count": 95,
   "id": "58f66d4b-492f-414b-9a29-72c9eed4a6b6",
   "metadata": {},
   "outputs": [
    {
     "data": {
      "text/plain": [
       "2.00840379100031"
      ]
     },
     "execution_count": 95,
     "metadata": {},
     "output_type": "execute_result"
    }
   ],
   "source": [
    "score_array.count(0)\n",
    "sum(time_array)/100"
   ]
  },
  {
   "cell_type": "code",
   "execution_count": 87,
   "id": "e43fb3b6-60ae-4dd8-9dbd-9d124abec825",
   "metadata": {},
   "outputs": [
    {
     "name": "stdout",
     "output_type": "stream",
     "text": [
      "[0, 0, 0, 5, 2, 2, 6, 3, 0, 2, 2, 3, 3, 0, 0, 0, 2, 5, 2, 3, 0, 5, 0, 0, 0, 0, 3, 0, 0, 0, 0, 0, 5, 3, 0, 0, 2, 4, 0, 2, 3, 0, 0, 0, 0, 3, 0, 3, 3, 3, 3, 2, 0, 5, 4, 0, 3, 3, 2, 2, 0, 0, 0, 2, 5, 2, 0, 5, 3, 0, 3, 2, 0, 0, 2, 3, 0, 0, 3, 2, 5, 0, 0, 0, 3, 0, 4, 0, 0, 2, 0, 7, 5, 3, 2, 2, 0, 6, 0, 3]\n"
     ]
    }
   ],
   "source": [
    "#RHC\n",
    "\n",
    "def RHC(puzz,iterations):\n",
    "    score1=score(puzz)\n",
    "    T=10\n",
    "    for i in range(iterations):\n",
    "        proposed=flip_random(puzz,zeros)\n",
    "        score2=score(proposed)\n",
    "        if score2<score1:\n",
    "            score1=score2\n",
    "            puzz=proposed\n",
    "        if score2==0:\n",
    "            break\n",
    "        T=T*(iterations-i)/iterations   \n",
    "    return score(puzz)   \n",
    "\n",
    "score_array=[] \n",
    "time_array=[]\n",
    "for i in range(100):\n",
    "    tic = time.perf_counter()\n",
    "    a=SA(puzz1,100000)\n",
    "    score_array.append(a)\n",
    "    toc = time.perf_counter()\n",
    "    time_array.append(toc - tic)\n",
    "\n",
    "print(score_array)    "
   ]
  },
  {
   "cell_type": "code",
   "execution_count": 91,
   "id": "604e4373-573a-4e98-942d-f9b5d813afa5",
   "metadata": {},
   "outputs": [
    {
     "name": "stdout",
     "output_type": "stream",
     "text": [
      "45\n"
     ]
    },
    {
     "data": {
      "text/plain": [
       "2.0822807530003775"
      ]
     },
     "execution_count": 91,
     "metadata": {},
     "output_type": "execute_result"
    }
   ],
   "source": [
    "print(score_array.count(0))\n",
    "sum(time_array)/100"
   ]
  },
  {
   "cell_type": "code",
   "execution_count": null,
   "id": "223d76a6-26ea-4670-b19e-80c78a25fd75",
   "metadata": {},
   "outputs": [],
   "source": [
    "#genetic algo"
   ]
  },
  {
   "cell_type": "code",
   "execution_count": 63,
   "id": "1a5d5632-b368-4e7b-bd3a-80acdfd5a6e2",
   "metadata": {},
   "outputs": [],
   "source": [
    "#this uses some code from above\n",
    "def pop_init(base_puzz,n):\n",
    "    pop_array=[]\n",
    "    for i in range(n):\n",
    "        pop_array.append(random_intialize(base_puzz))\n",
    "    return pop_array \n",
    "\n",
    "def bub_sort(input):\n",
    "    n = len(input)\n",
    "    for i in range(n):\n",
    "        sort_comp = True\n",
    "        for j in range(n - i - 1):\n",
    "            if score(input[j]) > score(input[j + 1]):\n",
    "                input[j+1], input[j] = input[j], input[j+1]\n",
    "                sort_comp = False\n",
    "        if sort_comp:\n",
    "            break\n",
    "    return input\n",
    "\n",
    "\n",
    "def prob_dist(input_list):\n",
    "    tot=0\n",
    "    prob_dist=[]\n",
    "    leng=len(input_list)\n",
    "    for i in range(leng):\n",
    "        item_score=1/score(input_list[i])\n",
    "        tot=tot+item_score\n",
    "        prob_dist.append(item_score)\n",
    "    for i in range(leng):\n",
    "        prob_dist[i]=prob_dist[i]/tot\n",
    "    return prob_dist    \n",
    "\n",
    "def select_top(wghts,input_array):\n",
    "    new_pop=[]\n",
    "    leng=len(input_array)\n",
    "    percent_to_keep=.5\n",
    "    keep_num=math.ceil(percent_to_keep*leng)\n",
    "    indy=list(range(leng))\n",
    "    for i in range(keep_num):\n",
    "        parent_index = np.random.choice(indy, 2, replace=False, p=wghts)\n",
    "        score1=score(input_array[parent_index[0]])\n",
    "        score2=score(input_array[parent_index[1]])\n",
    "        if score1<score2:\n",
    "            new_pop.append(input_array[parent_index[0]])\n",
    "            ind = indy.index(parent_index[0])\n",
    "        else:    \n",
    "            ind = indy.index(parent_index[1])\n",
    "            new_pop.append(input_array[parent_index[1]])\n",
    "        del indy[ind:ind+1]\n",
    "        del wghts[ind:ind+1]\n",
    "        new_sum=math.fsum(wghts)    \n",
    "        wghts=[x/new_sum for x in wghts]  \n",
    "    return new_pop\n",
    "\n",
    "\n",
    "def new_gen_w_children(sz,input_array):\n",
    "    children=[]\n",
    "    leng=len(input_array)\n",
    "    num_new_children=sz-leng\n",
    "    num_new_children=num_new_children\n",
    "    index=list(range(leng))\n",
    "    for i in range(num_new_children):\n",
    "        parent_index = np.random.choice(index, 2, replace=False)\n",
    "  #      child=[input_array[parent_index[0]][0],input_array[parent_index[1]][1],input_array[parent_index[0]][2],\n",
    "  #             input_array[parent_index[1]][3],input_array[parent_index[0]][4],input_array[parent_index[1]][5],\n",
    "  #             input_array[parent_index[0]][6],input_array[parent_index[1]][7],input_array[parent_index[0]][8]]\n",
    "        child=[input_array[parent_index[0]][0],input_array[parent_index[0]][1],input_array[parent_index[0]][2],\n",
    "               input_array[parent_index[0]][3],input_array[parent_index[1]][4],input_array[parent_index[1]][5],\n",
    "               input_array[parent_index[1]][6],input_array[parent_index[1]][7],input_array[parent_index[1]][8]]\n",
    "        ran_val=np.random.uniform(10)\n",
    "        if(ran_val<8):\n",
    "            child=flip_random(child,zeros)\n",
    "        children.append(child)\n",
    "    for i in range(len(children)):\n",
    "        input_array.append(children[i])\n",
    "    return input_array"
   ]
  },
  {
   "cell_type": "code",
   "execution_count": 85,
   "id": "22815e4d-b966-460f-ba99-079daed4f64a",
   "metadata": {},
   "outputs": [
    {
     "name": "stdout",
     "output_type": "stream",
     "text": [
      "you did it\n",
      "-----------------------\n",
      "| 8 7 5| 9 2 1| 3 4 6|\n",
      "| 3 6 1| 7 5 4| 8 9 2|\n",
      "| 2 4 9| 8 6 3| 7 1 5|\n",
      "-----------------------\n",
      "| 5 8 4| 6 9 7| 1 2 3|\n",
      "| 7 1 3| 2 4 8| 6 5 9|\n",
      "| 9 2 6| 1 3 5| 4 8 7|\n",
      "-----------------------\n",
      "| 6 9 7| 4 1 2| 5 3 8|\n",
      "| 1 5 8| 3 7 9| 2 6 4|\n",
      "| 4 3 2| 5 8 6| 9 7 1|\n",
      "[0]\n",
      "[113.47089480000432]\n"
     ]
    }
   ],
   "source": [
    "one=[0,7,0,0,6,0,2,0,0]\n",
    "two=[0,2,0,0,0,0,8,0,0]\n",
    "thr=[0,4,6,8,9,0,7,1,5]\n",
    "fur=[0,8,4,7,1,0,0,0,0]\n",
    "fiv=[0,9,7,0,0,0,1,3,0]\n",
    "six=[0,0,0,0,5,9,4,8,0]\n",
    "sev=[6,9,7,0,5,8,4,3,0]\n",
    "eit=[0,0,2,0,0,0,0,8,0]\n",
    "nin=[0,0,8,0,6,0,0,7,0]\n",
    "\n",
    "\n",
    "\n",
    "\n",
    "pop_size=10\n",
    "\n",
    "iterations=1\n",
    "\n",
    "score_array=[]\n",
    "time_array=[]\n",
    "\n",
    "\n",
    "cont=True\n",
    "\n",
    "for k in range(iterations):\n",
    "    new_gen=[]\n",
    "    next_gen=[]\n",
    "    cur_score=[]\n",
    "    puzzle=[one,two,thr,fur,fiv,six,sev,eit,nin]\n",
    "    zeros=build_free(puzzle)\n",
    "    current_pop=pop_init(puzzle,pop_size)\n",
    "    weight_pop=prob_dist(current_pop)\n",
    "    score_min=100  #select an arb high value\n",
    "    tic = time.perf_counter()\n",
    "    for j in range(100000):\n",
    "        new_gen=select_top(weight_pop,current_pop)  #selects the best\n",
    "        next_gen=new_gen_w_children(pop_size,new_gen) #spawns kids and does mutations to recapture original pop size\n",
    "        for i in range(len(next_gen)):\n",
    "            cur_score=score(next_gen[i])\n",
    "            if cur_score<score_min:\n",
    "                score_min=cur_score\n",
    "            if score_min==0:\n",
    "                print(\"you did it\")\n",
    "                print_puzz(next_gen[i])\n",
    "        \n",
    "                cont=False\n",
    "                break    \n",
    "        if cont==False:\n",
    "            break    \n",
    "        current_pop=next_gen \n",
    "        weight_pop=prob_dist(current_pop)    \n",
    "    score_array.append(score_min)\n",
    "    toc = time.perf_counter()\n",
    "    time_array.append(toc - tic)\n",
    "    print(score_array)\n",
    "    print(time_array)    \n",
    "    \n"
   ]
  },
  {
   "cell_type": "code",
   "execution_count": 99,
   "id": "c6715dcc-7397-420b-aacd-7383e41700e1",
   "metadata": {},
   "outputs": [
    {
     "data": {
      "image/png": "[encoded data removed]",
      "text/plain": [
       "<Figure size 432x288 with 1 Axes>"
      ]
     },
     "metadata": {
      "needs_background": "light"
     },
     "output_type": "display_data"
    }
   ],
   "source": [
    "import matplotlib.pyplot as plt\n",
    "\n",
    "number_correct=[45, 59, 92]\n",
    "\n",
    "\n",
    "\n",
    "ax=plt.axes()\n",
    "\n",
    "ax.set_xticks([0,1,2])\n",
    "ax.set_xticklabels(['RHC','SA','Genetic'])\n",
    "\n",
    "plt.plot(number_correct,'o-', color=\"y\",\n",
    "        label=\"RHC\")\n",
    "\n",
    "#plt.grid()\n",
    "plt.ylabel('Number correct out of 100 starts')\n",
    "plt.xlabel('Algorithm')\n",
    "plt.title(\"Number of Correct Puzzle Solutions 100 trials\")\n",
    "plt.legend(loc=\"best\")\n",
    "\n",
    "plt.show()    "
   ]
  },
  {
   "cell_type": "code",
   "execution_count": 102,
   "id": "0e2591f7-c820-45da-8d5d-78afc85dea77",
   "metadata": {},
   "outputs": [
    {
     "data": {
      "image/png": "[encoded data removed]",
      "text/plain": [
       "<Figure size 432x288 with 1 Axes>"
      ]
     },
     "metadata": {
      "needs_background": "light"
     },
     "output_type": "display_data"
    }
   ],
   "source": [
    "number_correct=[2, 2, 19]\n",
    "\n",
    "\n",
    "ax=plt.axes()\n",
    "\n",
    "ax.set_xticks([0,1,2])\n",
    "\n",
    "\n",
    "ax.set_xticklabels(['RHC','SA','Genetic'])\n",
    "\n",
    "plt.plot(number_correct,'o-', color=\"y\",\n",
    "        label=\"RHC\")\n",
    "\n",
    "#plt.grid()\n",
    "plt.ylabel('average time to convergence (s)')\n",
    "plt.xlabel('Algorithm')\n",
    "plt.title(\"Average convergence time for each algorithm 100 trials\")\n",
    "plt.legend(loc=\"best\")\n",
    "\n",
    "plt.show()    "
   ]
  },
  {
   "cell_type": "code",
   "execution_count": 16,
   "id": "d312911d-f109-4a73-9cdb-8e22b3509468",
   "metadata": {},
   "outputs": [],
   "source": [
    "#mimic\n",
    "#not implemented"
   ]
  }
 ],
 "metadata": {
  "kernelspec": {
   "display_name": "Python 3 (ipykernel)",
   "language": "python",
   "name": "python3"
  },
  "language_info": {
   "codemirror_mode": {
    "name": "ipython",
    "version": 3
   },
   "file_extension": ".py",
   "mimetype": "text/x-python",
   "name": "python",
   "nbconvert_exporter": "python",
   "pygments_lexer": "ipython3",
   "version": "3.9.12"
  }
 },
 "nbformat": 4,
 "nbformat_minor": 5
}
