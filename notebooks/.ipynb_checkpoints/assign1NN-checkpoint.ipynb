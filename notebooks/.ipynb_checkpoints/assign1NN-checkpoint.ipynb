{
 "cells": [
  {
   "cell_type": "markdown",
   "id": "51a21f6a-d65e-404d-b4a1-dd840b4dc4c7",
   "metadata": {},
   "source": [
    "This notebook is broken into two halves both providing code for the Neural Network Analysis. The first part is for the Titanic data set. The second part is for the Diabetes data set"
   ]
  },
  {
   "cell_type": "code",
   "execution_count": null,
   "id": "23e5dc59-494c-4a45-b8b6-b5dd55c79d8d",
   "metadata": {},
   "outputs": [],
   "source": [
    "import pandas as pd\n",
    "import numpy as np\n",
    "import torch\n",
    "import time\n",
    "import torch.nn as nn  #allthe nn modules\n",
    "import torch.optim as optim #optimization algorithms Adam\n",
    "from sklearn.model_selection import train_test_split\n",
    "from sklearn.metrics import accuracy_score\n",
    "from sklearn.preprocessing import StandardScaler\n",
    "from sklearn.model_selection import learning_curve\n",
    "import torchvision \n",
    "import torchvision.transforms as transforms\n",
    "df=pd.read_csv(\"dataSets/titanic.csv\")"
   ]
  },
  {
   "cell_type": "code",
   "execution_count": 2,
   "id": "c46c5ba0-0acc-43b8-8136-cdcc4a1e8629",
   "metadata": {},
   "outputs": [],
   "source": [
    "del df[\"PassengerId\"]\n",
    "del df[\"Name\"]\n",
    "del df[\"Ticket\"]\n",
    "del df[\"Cabin\"]\n",
    "df['Sex']=df['Sex'].replace(to_replace='male',value='1')\n",
    "df['Sex']=df['Sex'].replace(to_replace='female',value='0')\n",
    "df['Embarked']=df['Embarked'].replace(to_replace='S',value='0')\n",
    "df['Embarked']=df['Embarked'].replace(to_replace='C',value='1')\n",
    "df['Embarked']=df['Embarked'].replace(to_replace='Q',value='2')\n",
    "df=df.dropna()\n",
    "y=df['Survived']\n",
    "y_temp=df['Survived']\n",
    "X=df.drop(['Survived'],axis=1)\n",
    "#y_temp=y_temp.reset_index(drop=True)\n",
    "y=y.reset_index(drop=True)\n",
    "X=X.reset_index(drop=True)"
   ]
  },
  {
   "cell_type": "code",
   "execution_count": 4,
   "id": "18dbefc6-c4b6-48b6-aa8c-7e68fe603d38",
   "metadata": {},
   "outputs": [],
   "source": [
    "X_train, X_test, y_train, y_test = train_test_split(X, y, test_size = 0.25, random_state = 25)  #same as DT\n",
    "sc_X=StandardScaler()\n",
    "X_train=sc_X.fit_transform(X_train)\n",
    "X_test=sc_X.fit_transform(X_test)\n"
   ]
  },
  {
   "cell_type": "code",
   "execution_count": 5,
   "id": "799ca300-c4c2-4779-9b2d-414f197d8f94",
   "metadata": {},
   "outputs": [
    {
     "data": {
      "text/plain": [
       "array([[-1.50736476, -1.35662284, -1.08109036, ...,  1.93843843,\n",
       "         1.89879676, -0.50410644],\n",
       "       [ 0.89901127,  0.73712455, -0.73690819, ..., -0.50577909,\n",
       "        -0.5281483 , -0.50410644],\n",
       "       [-0.30417675, -1.35662284, -1.83829112, ...,  1.93843843,\n",
       "         0.19872554,  1.44656629],\n",
       "       ...,\n",
       "       [ 0.89901127,  0.73712455,  0.98400263, ..., -0.50577909,\n",
       "        -0.5281483 , -0.50410644],\n",
       "       [-0.30417675,  0.73712455,  1.12167549, ..., -0.50577909,\n",
       "        -0.1390133 , -0.50410644],\n",
       "       [ 0.89901127,  0.73712455, -1.42527252, ...,  1.93843843,\n",
       "        -0.25770489, -0.50410644]])"
      ]
     },
     "execution_count": 5,
     "metadata": {},
     "output_type": "execute_result"
    }
   ],
   "source": [
    "X_train"
   ]
  },
  {
   "cell_type": "code",
   "execution_count": 6,
   "id": "06cf1bd9-f85c-4dda-b4ae-3f524f8ea9db",
   "metadata": {},
   "outputs": [],
   "source": [
    "#X_float=X_train.values.astype(float)  #converting the data to floats for use in torch\n",
    "#y_float=y_train.values.astype(float)\n",
    "X_train=torch.tensor(X_train)\n",
    "y_train=torch.tensor(y_train.astype(float).values)  #this is still a data frame\n",
    "X_test=torch.tensor(X_test)\n",
    "y_test=torch.tensor(y_test.astype(float).values)\n",
    "y_train=torch.reshape(y_train,(X_train.size()[0],1))\n",
    "y_test=torch.reshape(y_test,(X_test.size()[0],1))\n"
   ]
  },
  {
   "cell_type": "code",
   "execution_count": 7,
   "id": "0dd15bbc-820c-4b87-adf0-47ee9d35cecb",
   "metadata": {},
   "outputs": [],
   "source": [
    "#n_input, n_hidden, n_out, batch_size, learning_rate = 7, 5, 4, X_train.size()[0], 0.001 #nice\n",
    "n_input, n_hidden, n_out, batch_size, learning_rate = 7, 5, 1, X_train.size()[0], 0.01"
   ]
  },
  {
   "cell_type": "code",
   "execution_count": 8,
   "id": "195dc043-5a3e-4f60-b9ed-e457aa8daef9",
   "metadata": {},
   "outputs": [
    {
     "name": "stdout",
     "output_type": "stream",
     "text": [
      "Producing best fit model for NN 621.7079 seconds\n"
     ]
    }
   ],
   "source": [
    "def acc_func(y_pred,y_train):\n",
    "    correct=0\n",
    "    total=0\n",
    "    TP=0\n",
    "    FP=0\n",
    "    TN=0\n",
    "    FN=0\n",
    "    for i in range(y_pred.size()[0]):\n",
    "        m=y_pred[i].float()\n",
    "        t=y_train[i].item()\n",
    "        if m<.5:\n",
    "            rounded=0\n",
    "        else:\n",
    "            rounded=1\n",
    "        if t>0 and (rounded-t)==0:\n",
    "            TP=TP+1\n",
    "        if t==0 and (rounded-t)==0:\n",
    "            TN=TN+1\n",
    "        if t>0 and (rounded-t)!=0:\n",
    "            FN=FN+1\n",
    "        if t==0 and (rounded-t)!=0:\n",
    "            FP=FP+1    \n",
    "        total+=1    \n",
    "    accuracy=(TP+TN)/(TP+TN+FN+FP)\n",
    "    return accuracy    \n",
    "\n",
    "\n",
    "model = nn.Sequential(  #Sequential lives inside the nueral network class\n",
    "                      nn.Linear(n_input, n_hidden),\n",
    "                      nn.ReLU(),\n",
    "                      nn.Linear(n_hidden, n_out),\n",
    "                      nn.Sigmoid())\n",
    "\n",
    "losses=[]\n",
    "losses_test=[]\n",
    "accuracy=[]\n",
    "accuracy_test=[]\n",
    "optim=torch.optim.SGD(model.parameters(),learning_rate)\n",
    "tic = time.perf_counter()\n",
    "for i in range(10000):\n",
    "    y_pred=model(X_train.float())\n",
    "    y_pred_test=model(X_test.float())\n",
    "    loss=sum((y_pred-y_train)**2)/y_train.shape[0]\n",
    "    loss_test=sum((y_pred_test-y_test)**2)/y_test.shape[0]\n",
    "    acc=acc_func(y_pred,y_train)\n",
    "    acc_test=acc_func(y_pred_test,y_test)\n",
    "    accuracy.append(acc)\n",
    "    accuracy_test.append(acc_test)\n",
    "    losses.append(loss.item())\n",
    "    losses_test.append(loss_test.item())\n",
    "    loss.backward()\n",
    "    optim.step()\n",
    "    optim.zero_grad()\n",
    "    \n",
    "toc = time.perf_counter()\n",
    "print(f\"Producing best fit model for NN {toc - tic:0.4f} seconds\")\n",
    "\n"
   ]
  },
  {
   "cell_type": "code",
   "execution_count": 532,
   "id": "71ea823c-adc6-4333-8947-324d377fb3b0",
   "metadata": {},
   "outputs": [
    {
     "name": "stdout",
     "output_type": "stream",
     "text": [
      "accuracy:  0.8183520599250936\n",
      "f1_score:  0.7593052109181141\n"
     ]
    }
   ],
   "source": [
    "#train\n",
    "correct=0\n",
    "total=0\n",
    "TP=0\n",
    "FP=0\n",
    "TN=0\n",
    "FN=0\n",
    "for i in range(X_train.size()[0]):\n",
    "    m=model(X_train[i].float())[0].item()\n",
    "    t=y_train[i].item()\n",
    "    if m<.5:\n",
    "        rounded=0\n",
    "    else:\n",
    "        rounded=1\n",
    "    if t>0 and (rounded-t)==0:\n",
    "        TP=TP+1\n",
    "    if t==0 and (rounded-t)==0:\n",
    "        TN=TN+1\n",
    "    if t>0 and (rounded-t)!=0:\n",
    "        FN=FN+1\n",
    "    if t==0 and (rounded-t)!=0:\n",
    "        FP=FP+1    \n",
    "    total+=1    \n",
    "    \n",
    "print(\"accuracy: \",(TP+TN)/(TP+TN+FN+FP))\n",
    "recall=TP/(FN+TP)\n",
    "prec=TP/(FP+TP)\n",
    "print(\"f1_score: \",2*(recall*prec)/(recall+prec))\n"
   ]
  },
  {
   "cell_type": "code",
   "execution_count": 533,
   "id": "eb8b61f3-a840-4a61-a45e-962ac18666cc",
   "metadata": {},
   "outputs": [
    {
     "name": "stdout",
     "output_type": "stream",
     "text": [
      "accuracy:  0.8089887640449438\n",
      "f1_score:  0.7571428571428571\n"
     ]
    }
   ],
   "source": [
    "#test\n",
    "#train\n",
    "correct=0\n",
    "total=0\n",
    "TP=0\n",
    "FP=0\n",
    "TN=0\n",
    "FN=0\n",
    "for i in range(X_test.size()[0]):\n",
    "    m=model(X_test[i].float())[0].item()\n",
    "    t=y_test[i].item()\n",
    "    if m<.5:\n",
    "        rounded=0\n",
    "    else:\n",
    "        rounded=1\n",
    "    if t>0 and (rounded-t)==0:\n",
    "        TP=TP+1\n",
    "    if t==0 and (rounded-t)==0:\n",
    "        TN=TN+1\n",
    "    if t>0 and (rounded-t)!=0:\n",
    "        FN=FN+1\n",
    "    if t==0 and (rounded-t)!=0:\n",
    "        FP=FP+1    \n",
    "    total+=1    \n",
    "    \n",
    "print(\"accuracy: \",(TP+TN)/(TP+TN+FN+FP))\n",
    "recall=TP/(FN+TP)\n",
    "prec=TP/(FP+TP)\n",
    "print(\"f1_score: \",2*(recall*prec)/(recall+prec))"
   ]
  },
  {
   "cell_type": "code",
   "execution_count": 577,
   "id": "a55aa686-9c93-409b-8aa7-a910ff80652d",
   "metadata": {},
   "outputs": [
    {
     "data": {
      "image/png": "[encoded data removed]",
      "text/plain": [
       "<Figure size 432x288 with 1 Axes>"
      ]
     },
     "metadata": {
      "needs_background": "light"
     },
     "output_type": "display_data"
    }
   ],
   "source": [
    "import matplotlib.pyplot as plt\n",
    "plt.plot(losses, color=\"y\",\n",
    "        label=\"Training Data\")\n",
    "plt.plot(losses_test, color=\"b\",\n",
    "        label=\"Testing Data\")\n",
    "plt.grid()\n",
    "plt.ylabel('loss')\n",
    "plt.xlabel('epoch')\n",
    "plt.title(\"Learning rate %f\"%(learning_rate))\n",
    "plt.legend(loc=\"best\")\n",
    "plt.show()    \n"
   ]
  },
  {
   "cell_type": "code",
   "execution_count": 579,
   "id": "d4133ebf-d04d-4a08-a3c3-95545816d873",
   "metadata": {},
   "outputs": [
    {
     "data": {
      "image/png": "[encoded data removed]",
      "text/plain": [
       "<Figure size 432x288 with 1 Axes>"
      ]
     },
     "metadata": {
      "needs_background": "light"
     },
     "output_type": "display_data"
    }
   ],
   "source": [
    "import matplotlib.pyplot as plt\n",
    "plt.plot(accuracy, color=\"y\",\n",
    "        label=\"Training Data\")\n",
    "plt.plot(accuracy_test, color=\"b\",\n",
    "        label=\"Testing Data\")\n",
    "\n",
    "plt.grid()\n",
    "plt.ylabel('accuracy')\n",
    "plt.xlabel('epoch')\n",
    "plt.title(\"Titanic Learning Curve Neural Network\")\n",
    "plt.legend(loc=\"best\")\n",
    "plt.show()   "
   ]
  },
  {
   "cell_type": "code",
   "execution_count": null,
   "id": "b1b6d36c-c971-43eb-84d2-a62bddda8a67",
   "metadata": {},
   "outputs": [],
   "source": []
  },
  {
   "cell_type": "code",
   "execution_count": null,
   "id": "ab6b0cb2-c5de-4a84-9676-2b1a06d55a15",
   "metadata": {},
   "outputs": [],
   "source": [
    "#diabetes"
   ]
  },
  {
   "cell_type": "code",
   "execution_count": 9,
   "id": "a5cdf4f6-0de8-409b-b742-2c17d194b417",
   "metadata": {},
   "outputs": [],
   "source": [
    "df=pd.read_csv(\"dataSets/diabetes.csv\")\n",
    "zero_to_nan=['Glucose','BloodPressure','SkinThickness','Insulin','BMI']\n",
    "for col in zero_to_nan:\n",
    "             df[col]=df[col].replace(0,np.NaN)\n",
    "             mean=int(df[col].mean(skipna=True))\n",
    "             df[col]=df[col].replace(np.NaN,mean)\n",
    "X=df.iloc[:,0:8]\n",
    "y=df.iloc[:,8]\n",
    "X_train, X_test, y_train, y_test = train_test_split(X, y, test_size = 0.2, random_state = 0)  #same as DT\n",
    "y=y.reset_index(drop=True)\n",
    "X=X.reset_index(drop=True)\n",
    "sc_X=StandardScaler()\n",
    "X_train=sc_X.fit_transform(X_train)\n",
    "X_test=sc_X.fit_transform(X_test)"
   ]
  },
  {
   "cell_type": "code",
   "execution_count": 10,
   "id": "20d0b929-f4d0-42c2-9d16-0feab3f14e8f",
   "metadata": {},
   "outputs": [],
   "source": [
    "X_train=torch.tensor(X_train)\n",
    "y_train=torch.tensor(y_train.astype(float).values)  #this is still a data frame\n",
    "X_test=torch.tensor(X_test)\n",
    "y_test=torch.tensor(y_test.astype(float).values)\n",
    "y_train=torch.reshape(y_train,(X_train.size()[0],1))\n",
    "y_test=torch.reshape(y_test,(X_test.size()[0],1))"
   ]
  },
  {
   "cell_type": "code",
   "execution_count": 12,
   "id": "4c6336dc-7f55-44f3-be91-fe80684b69dd",
   "metadata": {},
   "outputs": [],
   "source": [
    "n_input, n_hidden, n_out, batch_size, learning_rate = 8, 5, 1, X_train.size()[0], 0.01"
   ]
  },
  {
   "cell_type": "code",
   "execution_count": 13,
   "id": "a4095265-a2c2-4cd5-a2b8-1056ac84b80b",
   "metadata": {},
   "outputs": [
    {
     "name": "stdout",
     "output_type": "stream",
     "text": [
      "Producing best fit model for NN Diabetes 695.2279 seconds\n"
     ]
    }
   ],
   "source": [
    "def acc_func(y_pred,y_train):\n",
    "    correct=0\n",
    "    total=0\n",
    "    TP=0\n",
    "    FP=0\n",
    "    TN=0\n",
    "    FN=0\n",
    "    for i in range(y_pred.size()[0]):\n",
    "        m=y_pred[i].float()\n",
    "        t=y_train[i].item()\n",
    "        if m<.5:\n",
    "            rounded=0\n",
    "        else:\n",
    "            rounded=1\n",
    "        if t>0 and (rounded-t)==0:\n",
    "            TP=TP+1\n",
    "        if t==0 and (rounded-t)==0:\n",
    "            TN=TN+1\n",
    "        if t>0 and (rounded-t)!=0:\n",
    "            FN=FN+1\n",
    "        if t==0 and (rounded-t)!=0:\n",
    "            FP=FP+1    \n",
    "        total+=1    \n",
    "    accuracy=(TP+TN)/(TP+TN+FN+FP)\n",
    "    return accuracy \n",
    "\n",
    "\n",
    "model = nn.Sequential(  #Sequential lives inside the neural network class\n",
    "                      nn.Linear(n_input, n_hidden),\n",
    "                      nn.ReLU(),\n",
    "                      nn.Linear(n_hidden, n_out),\n",
    "                      nn.Sigmoid())\n",
    "\n",
    "losses=[]\n",
    "losses_test=[]\n",
    "accuracy=[]\n",
    "accuracy_test=[]\n",
    "optim=torch.optim.SGD(model.parameters(),learning_rate)\n",
    "tic = time.perf_counter()\n",
    "for i in range(10000):\n",
    "    y_pred=model(X_train.float())\n",
    "    y_pred_test=model(X_test.float())\n",
    "    loss=sum((y_pred-y_train)**2)/y_train.shape[0]\n",
    "    loss_test=sum((y_pred_test-y_test)**2)/y_test.shape[0]\n",
    "    acc=acc_func(y_pred,y_train)\n",
    "    acc_test=acc_func(y_pred_test,y_test)\n",
    "    accuracy.append(acc)\n",
    "    accuracy_test.append(acc_test)\n",
    "    losses.append(loss.item())\n",
    "    losses_test.append(loss_test.item())\n",
    "    loss.backward()\n",
    "    optim.step()\n",
    "    optim.zero_grad()\n",
    "toc = time.perf_counter()\n",
    "print(f\"Producing best fit model for NN Diabetes {toc - tic:0.4f} seconds\")\n"
   ]
  },
  {
   "cell_type": "code",
   "execution_count": 7,
   "id": "b95537eb-0c7d-4752-97da-6dcaaa391768",
   "metadata": {},
   "outputs": [
    {
     "name": "stdout",
     "output_type": "stream",
     "text": [
      "accuracy:  0.7785016286644951\n",
      "f1_score:  0.6851851851851852\n"
     ]
    }
   ],
   "source": [
    "#train\n",
    "correct=0\n",
    "total=0\n",
    "TP=0\n",
    "FP=0\n",
    "TN=0\n",
    "FN=0\n",
    "for i in range(X_train.size()[0]):\n",
    "    m=model(X_train[i].float())[0].item()\n",
    "    t=y_train[i].item()\n",
    "    if m<.5:\n",
    "        rounded=0\n",
    "    else:\n",
    "        rounded=1\n",
    "    if t>0 and (rounded-t)==0:\n",
    "        TP=TP+1\n",
    "    if t==0 and (rounded-t)==0:\n",
    "        TN=TN+1\n",
    "    if t>0 and (rounded-t)!=0:\n",
    "        FN=FN+1\n",
    "    if t==0 and (rounded-t)!=0:\n",
    "        FP=FP+1    \n",
    "    total+=1    \n",
    "    \n",
    "print(\"accuracy: \",(TP+TN)/(TP+TN+FN+FP))\n",
    "recall=TP/(FN+TP)\n",
    "prec=TP/(FP+TP)\n",
    "print(\"f1_score: \",2*(recall*prec)/(recall+prec))"
   ]
  },
  {
   "cell_type": "code",
   "execution_count": 8,
   "id": "415e4f8d-2c2d-4967-b677-13e877fb7090",
   "metadata": {},
   "outputs": [
    {
     "name": "stdout",
     "output_type": "stream",
     "text": [
      "accuracy:  0.7987012987012987\n",
      "f1_score:  0.6868686868686869\n"
     ]
    }
   ],
   "source": [
    "#test\n",
    "correct=0\n",
    "total=0\n",
    "TP=0\n",
    "FP=0\n",
    "TN=0\n",
    "FN=0\n",
    "for i in range(X_test.size()[0]):\n",
    "    m=model(X_test[i].float())[0].item()\n",
    "    t=y_test[i].item()\n",
    "    if m<.5:\n",
    "        rounded=0\n",
    "    else:\n",
    "        rounded=1\n",
    "    if t>0 and (rounded-t)==0:\n",
    "        TP=TP+1\n",
    "    if t==0 and (rounded-t)==0:\n",
    "        TN=TN+1\n",
    "    if t>0 and (rounded-t)!=0:\n",
    "        FN=FN+1\n",
    "    if t==0 and (rounded-t)!=0:\n",
    "        FP=FP+1    \n",
    "    total+=1    \n",
    "    \n",
    "print(\"accuracy: \",(TP+TN)/(TP+TN+FN+FP))\n",
    "recall=TP/(FN+TP)\n",
    "prec=TP/(FP+TP)\n",
    "print(\"f1_score: \",2*(recall*prec)/(recall+prec))"
   ]
  },
  {
   "cell_type": "code",
   "execution_count": 15,
   "id": "32dbc9bc-80c1-4317-b786-86932e1c8701",
   "metadata": {},
   "outputs": [
    {
     "data": {
      "image/png": "[encoded data removed]",
      "text/plain": [
       "<Figure size 432x288 with 1 Axes>"
      ]
     },
     "metadata": {
      "needs_background": "light"
     },
     "output_type": "display_data"
    }
   ],
   "source": [
    "import matplotlib.pyplot as plt\n",
    "plt.plot(losses, color=\"y\",\n",
    "        label=\"Training Data\")\n",
    "plt.plot(losses_test, color=\"b\",\n",
    "        label=\"Testing Data\")\n",
    "plt.grid()\n",
    "plt.ylabel('loss')\n",
    "plt.xlabel('epoch')\n",
    "plt.title(\"Learning rate Diabetes\")\n",
    "plt.legend(loc=\"best\")\n",
    "plt.show()    \n",
    " "
   ]
  },
  {
   "cell_type": "code",
   "execution_count": 13,
   "id": "5b9c11be-5d4f-4c5c-9209-ffeabac2656a",
   "metadata": {},
   "outputs": [
    {
     "data": {
      "image/png": "[encoded data removed]",
      "text/plain": [
       "<Figure size 432x288 with 1 Axes>"
      ]
     },
     "metadata": {
      "needs_background": "light"
     },
     "output_type": "display_data"
    }
   ],
   "source": [
    "import matplotlib.pyplot as plt\n",
    "plt.plot(accuracy, color=\"y\",\n",
    "        label=\"Training Data\")\n",
    "plt.plot(accuracy_test, color=\"b\",\n",
    "        label=\"Testing Data\")\n",
    "\n",
    "plt.grid()\n",
    "plt.ylabel('accuracy')\n",
    "plt.xlabel('epoch')\n",
    "plt.title(\"Diabetes Learning Curve Neural Network\")\n",
    "plt.legend(loc=\"best\")\n",
    "plt.show()    "
   ]
  },
  {
   "cell_type": "code",
   "execution_count": null,
   "id": "b1ed0a1f-2167-460c-814d-5dfea9e39fa1",
   "metadata": {},
   "outputs": [],
   "source": []
  }
 ],
 "metadata": {
  "kernelspec": {
   "display_name": "Python 3 (ipykernel)",
   "language": "python",
   "name": "python3"
  },
  "language_info": {
   "codemirror_mode": {
    "name": "ipython",
    "version": 3
   },
   "file_extension": ".py",
   "mimetype": "text/x-python",
   "name": "python",
   "nbconvert_exporter": "python",
   "pygments_lexer": "ipython3",
   "version": "3.9.12"
  }
 },
 "nbformat": 4,
 "nbformat_minor": 5
}
