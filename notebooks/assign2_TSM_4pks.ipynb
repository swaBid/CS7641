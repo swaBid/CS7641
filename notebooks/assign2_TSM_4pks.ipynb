{
 "cells": [
  {
   "cell_type": "markdown",
   "id": "4acef0cb-7568-4247-ad2b-cf7db123ecaa",
   "metadata": {},
   "source": [
    "Robert Steward\n",
    "Assignment 2\n",
    "Traveling Salesman and 4pks problem implementation"
   ]
  },
  {
   "cell_type": "code",
   "execution_count": 2,
   "id": "22d61c23-c421-4575-9f10-08676ade94a8",
   "metadata": {},
   "outputs": [
    {
     "name": "stdout",
     "output_type": "stream",
     "text": [
      "Requirement already satisfied: ipynb in c:\\users\\rober\\anaconda3\\lib\\site-packages (0.5.1)\n",
      "Note: you may need to restart the kernel to use updated packages.\n"
     ]
    }
   ],
   "source": [
    "pip install ipynb"
   ]
  },
  {
   "cell_type": "code",
   "execution_count": 3,
   "id": "b97bb29b-6103-49c8-890f-8cef471ab960",
   "metadata": {},
   "outputs": [
    {
     "name": "stdout",
     "output_type": "stream",
     "text": [
      "Requirement already satisfied: mlrose in c:\\users\\rober\\anaconda3\\lib\\site-packages (1.3.0)\n",
      "Requirement already satisfied: sklearn in c:\\users\\rober\\anaconda3\\lib\\site-packages (from mlrose) (0.0)\n",
      "Requirement already satisfied: numpy in c:\\users\\rober\\anaconda3\\lib\\site-packages (from mlrose) (1.21.5)\n",
      "Requirement already satisfied: scipy in c:\\users\\rober\\anaconda3\\lib\\site-packages (from mlrose) (1.8.1)\n",
      "Requirement already satisfied: scikit-learn in c:\\users\\rober\\anaconda3\\lib\\site-packages (from sklearn->mlrose) (1.0.2)\n",
      "Requirement already satisfied: threadpoolctl>=2.0.0 in c:\\users\\rober\\anaconda3\\lib\\site-packages (from scikit-learn->sklearn->mlrose) (2.2.0)\n",
      "Requirement already satisfied: joblib>=0.11 in c:\\users\\rober\\anaconda3\\lib\\site-packages (from scikit-learn->sklearn->mlrose) (1.1.0)\n",
      "Note: you may need to restart the kernel to use updated packages.\n"
     ]
    }
   ],
   "source": [
    "pip install mlrose"
   ]
  },
  {
   "cell_type": "code",
   "execution_count": 6,
   "id": "cdaab9de-06b5-4d22-a19e-6a5ce4a0ec5e",
   "metadata": {},
   "outputs": [],
   "source": [
    "import six\n",
    "import sys\n",
    "import os\n",
    "import numpy as np\n",
    "import time\n",
    "import math\n",
    "import random\n",
    "\n",
    "sys.modules['sklearn.externals.six'] = six\n",
    "import mlrose"
   ]
  },
  {
   "cell_type": "code",
   "execution_count": 3,
   "id": "bb10abd7-76f5-42b8-bcf6-b8aa07a504fb",
   "metadata": {},
   "outputs": [],
   "source": [
    "from ipynb.fs.full.mlrose_code import mimic\n",
    "from ipynb.fs.full.mlrose_code import simulated_annealing\n",
    "from ipynb.fs.full.mlrose_code import random_hill_climb\n",
    "from ipynb.fs.full.mlrose_code import FourPeaks\n"
   ]
  },
  {
   "cell_type": "code",
   "execution_count": 20,
   "id": "798d39cd-d0a2-4d22-94bb-fb40290c4641",
   "metadata": {},
   "outputs": [
    {
     "name": "stdout",
     "output_type": "stream",
     "text": [
      "6.135535836420484\n"
     ]
    },
    {
     "data": {
      "text/plain": [
       "8"
      ]
     },
     "execution_count": 20,
     "metadata": {},
     "output_type": "execute_result"
    }
   ],
   "source": [
    "def mix_coords(input_arr):\n",
    "    output=[]\n",
    "    leng=len(input_arr)\n",
    "    indices=list(range(leng))\n",
    "    random.shuffle(indices)\n",
    "    for i in range(leng):\n",
    "        output.append(input_arr[indices[i]])\n",
    "    return output\n",
    "    \n",
    "\n",
    "sides=8\n",
    "angle=360/sides\n",
    "angles=[]\n",
    "coords_list=[]\n",
    "for i in range(sides):\n",
    "    angles.append((i+1)*angle*math.pi/180)\n",
    "    coord=(round(math.cos(i*angle*math.pi/180),2),round(math.sin(i*angle*math.pi/180),2))\n",
    "    coords_list.append(coord) \n",
    "perm=sides*((coords_list[0][0]-coords_list[1][0])**2+(coords_list[0][1]-coords_list[1][1])**2)**.5  \n",
    "coords_list =mix_coords(coords_list)\n",
    "print(perm)\n",
    "\n",
    "len(coords_list)\n",
    "#print(len(coords_list))\n",
    "# Initialize fitness function object using coords_list\n"
   ]
  },
  {
   "cell_type": "code",
   "execution_count": 27,
   "id": "ec2b8850-39ef-4ecd-b911-23fd4b9e7d27",
   "metadata": {},
   "outputs": [
    {
     "name": "stdout",
     "output_type": "stream",
     "text": [
      "5.881146550516356   5.870689908349784\n",
      "7.517991982313963   6.198386886924694\n",
      "11.137784771613992   6.296427558544607\n",
      "14.56132645776775   6.2801273872430325\n",
      "[0.0017811607033952912, 0.21289492241488434, 0.7689054099414503, 1.3186355243918313]\n",
      "[0.025109140999966258, 0.08067619799995555, 0.1479423030000362, 0.22789726099999824]\n"
     ]
    }
   ],
   "source": [
    "#RHC\n",
    "side_array=[5,10,15,20]\n",
    "time_array=[]\n",
    "results_array=[]\n",
    "iterations=100\n",
    "\n",
    "for j in range(len(side_array)):\n",
    "    calc_sum=0\n",
    "    time_sum=0\n",
    "    sides=side_array[j]\n",
    "    angle=360/sides\n",
    "    angles=[]\n",
    "    coords_list=[]\n",
    "    for i in range(sides):\n",
    "        angles.append((i+1)*angle*math.pi/180)\n",
    "        coord=(round(math.cos(i*angle*math.pi/180),2),round(math.sin(i*angle*math.pi/180),2))\n",
    "        coords_list.append(coord) \n",
    "    perm=sides*((coords_list[0][0]-coords_list[1][0])**2+(coords_list[0][1]-coords_list[1][1])**2)**.5\n",
    "    for k in range(iterations):\n",
    "        coords_list =mix_coords(coords_list)\n",
    "        fitcoords = mlrose.TravellingSales(coords = coords_list)\n",
    "        tic=time.perf_counter()\n",
    "        model = mlrose.TSPOpt(length = len(coords_list), fitness_fn = fitcoords, maximize=False)\n",
    "        res=random_hill_climb(model, max_attempts=10, max_iters=1000, restarts=10, init_state=None, curve=True, random_state=None)\n",
    "        toc = time.perf_counter()\n",
    "        calc_sum=calc_sum+res[1]\n",
    "        time_sum=time_sum+(toc-tic)\n",
    "    time_array.append(time_sum/iterations)\n",
    "    avg_calc=calc_sum/iterations\n",
    "    print(avg_calc,\" \",perm)\n",
    "    results_array.append(abs(avg_calc-perm)/perm)\n",
    "    \n",
    "print(results_array)\n",
    "print(time_array)"
   ]
  },
  {
   "cell_type": "code",
   "execution_count": 160,
   "id": "32f10db0-3484-44c8-a85b-37d15ef3cb9a",
   "metadata": {},
   "outputs": [
    {
     "data": {
      "text/plain": [
       "0.15179541101065164"
      ]
     },
     "execution_count": 160,
     "metadata": {},
     "output_type": "execute_result"
    }
   ],
   "source": [
    "(7.139273572028461-6.198386886924694)/6.198386886924694"
   ]
  },
  {
   "cell_type": "code",
   "execution_count": 28,
   "id": "17b02285-7027-4d40-930e-7b29883b3783",
   "metadata": {},
   "outputs": [
    {
     "name": "stdout",
     "output_type": "stream",
     "text": [
      "5.881146550516351   5.870689908349784\n",
      "7.889240681364589   6.198386886924694\n",
      "12.74389512133115   6.296427558544607\n",
      "17.40240375704135   6.2801273872430325\n",
      "[0.0017811607033943833, 0.27278932814063267, 1.0239882064611332, 1.7710271916444327]\n",
      "[3.327139989999978, 7.430240949999916, 9.07552411000006, 9.875631200000317]\n"
     ]
    }
   ],
   "source": [
    "#GA\n",
    "side_array=[5,10,15,20]\n",
    "time_array=[]\n",
    "results_array=[]\n",
    "iterations=10\n",
    "\n",
    "for j in range(len(side_array)):\n",
    "    calc_sum=0\n",
    "    time_sum=0\n",
    "    sides=side_array[j]\n",
    "    angle=360/sides\n",
    "    angles=[]\n",
    "    coords_list=[]\n",
    "    for i in range(sides):\n",
    "        angles.append((i+1)*angle*math.pi/180)\n",
    "        coord=(round(math.cos(i*angle*math.pi/180),2),round(math.sin(i*angle*math.pi/180),2))\n",
    "        coords_list.append(coord) \n",
    "    perm=sides*((coords_list[0][0]-coords_list[1][0])**2+(coords_list[0][1]-coords_list[1][1])**2)**.5\n",
    "    for k in range(iterations):\n",
    "        coords_list =mix_coords(coords_list)\n",
    "        fitcoords = mlrose.TravellingSales(coords = coords_list)\n",
    "        tic=time.perf_counter()\n",
    "        model = mlrose.TSPOpt(length = len(coords_list), fitness_fn = fitcoords, maximize=False)\n",
    "        res=mlrose.genetic_alg(model,pop_size=1000,max_attempts=10, random_state = 4)\n",
    "        toc = time.perf_counter()\n",
    "        calc_sum=calc_sum+res[1]\n",
    "        time_sum=time_sum+(toc-tic)\n",
    "    time_array.append(time_sum/iterations)\n",
    "    avg_calc=calc_sum/iterations\n",
    "    results_array.append(abs(avg_calc-perm)/perm)\n",
    "    print(avg_calc,\" \",perm)\n",
    "    \n",
    "print(results_array)\n",
    "print(time_array)\n",
    "\n",
    "\n"
   ]
  },
  {
   "cell_type": "code",
   "execution_count": 29,
   "id": "db159a6d-c4b7-473a-ba25-e2225808ee2c",
   "metadata": {},
   "outputs": [
    {
     "name": "stdout",
     "output_type": "stream",
     "text": [
      "5.881146550516351   5.870689908349784\n",
      "8.93112981826552   6.198386886924694\n",
      "13.697277282778677   6.296427558544607\n",
      "19.52951139814972   6.2801273872430325\n",
      "[0.0017811607033943833, 0.4408796967974785, 1.1754045695627358, 2.109731728980604]\n",
      "[0.8699391799998921, 2.1018425499999465, 3.8878570599999875, 5.84245422999993]\n"
     ]
    }
   ],
   "source": [
    "#MIMIC\n",
    "side_array=[5,10,15,20]\n",
    "time_array=[]\n",
    "results_array=[]\n",
    "iterations=10\n",
    "\n",
    "for j in range(len(side_array)):\n",
    "    calc_sum=0\n",
    "    time_sum=0\n",
    "    sides=side_array[j]\n",
    "    angle=360/sides\n",
    "    angles=[]\n",
    "    coords_list=[]\n",
    "    for i in range(sides):\n",
    "        angles.append((i+1)*angle*math.pi/180)\n",
    "        coord=(round(math.cos(i*angle*math.pi/180),2),round(math.sin(i*angle*math.pi/180),2))\n",
    "        coords_list.append(coord) \n",
    "    perm=sides*((coords_list[0][0]-coords_list[1][0])**2+(coords_list[0][1]-coords_list[1][1])**2)**.5\n",
    "    for k in range(iterations):\n",
    "        coords_list =mix_coords(coords_list)\n",
    "        fitcoords = mlrose.TravellingSales(coords = coords_list)\n",
    "        tic=time.perf_counter()\n",
    "        model = mlrose.TSPOpt(length = len(coords_list), fitness_fn = fitcoords, maximize=False)\n",
    "        res=mimic(model, pop_size=100, keep_pct=0.2, max_attempts=10, max_iters=10000, curve=True, random_state=None, fast_mimic=False)\n",
    "        toc = time.perf_counter()\n",
    "        calc_sum=calc_sum+res[1]\n",
    "        time_sum=time_sum+(toc-tic)\n",
    "    time_array.append(time_sum/iterations)\n",
    "    avg_calc=calc_sum/iterations\n",
    "    results_array.append(abs(avg_calc-perm)/perm)\n",
    "    print(avg_calc,\" \",perm)\n",
    "    \n",
    "print(results_array)\n",
    "print(time_array)\n"
   ]
  },
  {
   "cell_type": "code",
   "execution_count": 25,
   "id": "69157578-a704-46d1-bcc0-1c49b82e97f8",
   "metadata": {},
   "outputs": [
    {
     "name": "stdout",
     "output_type": "stream",
     "text": [
      "[0.0017811607033943833, 0.002349747490858052, 0.5254929419791365, 1.2677864416007472]\n",
      "[0.03513061999992715, 0.07354820000018662, 0.22774713999988308, 0.47231727000007595]\n"
     ]
    }
   ],
   "source": [
    "#SA\n",
    "side_array=[5,10,20,30]\n",
    "time_array=[]\n",
    "results_array=[]\n",
    "iterations=10\n",
    "\n",
    "for j in range(len(side_array)):\n",
    "    calc_sum=0\n",
    "    time_sum=0\n",
    "    sides=side_array[j]\n",
    "    angle=360/sides\n",
    "    angles=[]\n",
    "    coords_list=[]\n",
    "    for i in range(sides):\n",
    "        angles.append((i+1)*angle*math.pi/180)\n",
    "        coord=(round(math.cos(i*angle*math.pi/180),2),round(math.sin(i*angle*math.pi/180),2))\n",
    "        coords_list.append(coord) \n",
    "    perm=sides*((coords_list[0][0]-coords_list[1][0])**2+(coords_list[0][1]-coords_list[1][1])**2)**.5\n",
    "    for k in range(iterations):\n",
    "        coords_list =mix_coords(coords_list)\n",
    "        fitcoords = mlrose.TravellingSales(coords = coords_list)\n",
    "        tic=time.perf_counter()\n",
    "        model = mlrose.TSPOpt(length = len(coords_list), fitness_fn = fitcoords, maximize=False)\n",
    "        res=simulated_annealing(model, max_attempts=100, max_iters=1000, init_state=None, curve=True, random_state=None)\n",
    "        toc = time.perf_counter()\n",
    "        calc_sum=calc_sum+res[1]\n",
    "        time_sum=time_sum+(toc-tic)\n",
    "    time_array.append(time_sum/iterations)\n",
    "    avg_calc=calc_sum/iterations\n",
    "    results_array.append(abs(avg_calc-perm)/perm)\n",
    "    print(avg_calc,\" \",perm)\n",
    "    \n",
    "print(results_array)\n",
    "print(time_array)\n"
   ]
  },
  {
   "cell_type": "code",
   "execution_count": 25,
   "id": "b3ee6db4-0fd9-48b6-9042-88890e8ae3d5",
   "metadata": {},
   "outputs": [
    {
     "data": {
      "text/plain": [
       "(array([6, 0, 7, 4, 1, 2, 3, 5]),\n",
       " 19.549823185463147,\n",
       " array([-22.9155695 , -22.9155695 , -22.9155695 , -19.79246387,\n",
       "        -19.79246387, -19.79246387, -19.79246387, -19.79246387,\n",
       "        -19.54982319, -19.54982319, -19.54982319, -19.54982319,\n",
       "        -19.54982319, -19.54982319, -19.54982319, -19.54982319,\n",
       "        -19.54982319, -19.54982319, -19.54982319]))"
      ]
     },
     "execution_count": 25,
     "metadata": {},
     "output_type": "execute_result"
    }
   ],
   "source": [
    "random_hill_climb(problem_fit, max_attempts=10, max_iters=1000, restarts=0, init_state=None, curve=True, random_state=None)"
   ]
  },
  {
   "cell_type": "code",
   "execution_count": 35,
   "id": "ed3fba54-0b6b-4875-8383-68cf21036dd6",
   "metadata": {},
   "outputs": [
    {
     "data": {
      "image/png": "[encoded data removed]",
      "text/plain": [
       "<Figure size 432x288 with 1 Axes>"
      ]
     },
     "metadata": {
      "needs_background": "light"
     },
     "output_type": "display_data"
    }
   ],
   "source": [
    "import matplotlib.pyplot as plt\n",
    "\n",
    "\n",
    "\n",
    "percent_correct_RHC=[0.0017811607033952912, 0.21289492241488434, 0.7689054099414503, 1.3186355243918313]\n",
    "percent_correct_SA=[0.0017811607033943833, 0.002349747490858052, 0.5254929419791365, 1.2677864416007472]\n",
    "percent_correct_MIMIC=[0.0017811607033943833, 0.4408796967974785, 1.1754045695627358, 2.109731728980604]\n",
    "percent_correct_GA=[0.0017811607033943833, 0.27278932814063267, 1.0239882064611332, 1.7710271916444327]\n",
    "\n",
    "time_to_convergence_RHC=[0.025109140999966258, 0.08067619799995555, 0.1479423030000362, 0.22789726099999824]\n",
    "time_to_convergence_SA=[0.03513061999992715, 0.07354820000018662, 0.22774713999988308, 0.47231727000007595]\n",
    "time_to_convergence_MIMIC=[3.327139989999978, 7.430240949999916, 9.07552411000006, 9.875631200000317]\n",
    "time_to_convergence_GA=[3.327139989999978, 7.430240949999916, 9.07552411000006, 9.875631200000317]\n",
    "\n",
    "\n",
    "ax=plt.axes()\n",
    "\n",
    "ax.set_xticks([0,1,2,3])\n",
    "ax.set_xticklabels(['5','10','15','20'])\n",
    "\n",
    "plt.plot(percent_correct_RHC,'o-', color=\"y\",\n",
    "        label=\"RHC\")\n",
    "plt.plot(percent_correct_SA, 'o-',color=\"b\",\n",
    "        label=\"SA\")\n",
    "plt.plot(percent_correct_MIMIC, 'o-',color=\"r\",\n",
    "        label=\"MIMIC\")\n",
    "plt.plot(percent_correct_GA, 'o-',color=\"g\",\n",
    "        label=\"GA\")\n",
    "\n",
    "#plt.grid()\n",
    "plt.ylabel('Avg Percent Error (lower is better)')\n",
    "plt.xlabel('Number of Polygon Sides')\n",
    "plt.title(\"Algo Accuracy as Complexity Increase for Travel Salesman\")\n",
    "plt.legend(loc=\"best\")\n",
    "\n",
    "plt.show()    "
   ]
  },
  {
   "cell_type": "code",
   "execution_count": 41,
   "id": "fec9fa2f-59c4-440f-99c2-fee0c23be590",
   "metadata": {},
   "outputs": [
    {
     "data": {
      "image/png": "[encoded data removed]",
      "text/plain": [
       "<Figure size 432x288 with 1 Axes>"
      ]
     },
     "metadata": {
      "needs_background": "light"
     },
     "output_type": "display_data"
    }
   ],
   "source": [
    "import matplotlib.pyplot as plt\n",
    "\n",
    "\n",
    "\n",
    "percent_correct_RHC=[0.0017811607033952912, 0.21289492241488434, 0.7689054099414503, 1.3186355243918313]\n",
    "percent_correct_SA=[0.0017811607033943833, 0.002349747490858052, 0.5254929419791365, 1.2677864416007472]\n",
    "percent_correct_MIMIC=[0.0017811607033943833, 0.4408796967974785, 1.1754045695627358, 2.109731728980604]\n",
    "percent_correct_GA=[0.0017811607033943833, 0.27278932814063267, 1.0239882064611332, 1.7710271916444327]\n",
    "\n",
    "time_to_convergence_RHC=[0.025109140999966258, 0.08067619799995555, 0.1479423030000362, 0.22789726099999824]\n",
    "time_to_convergence_SA=[0.03513061999992715, 0.07354820000018662, 0.22774713999988308, 0.47231727000007595]\n",
    "time_to_convergence_MIMIC=[3.327139989999978, 7.430240949999916, 9.07552411000006, 9.875631200000317]\n",
    "time_to_convergence_GA=[0.8699391799998921, 2.1018425499999465, 3.8878570599999875, 5.84245422999993]\n",
    "\n",
    "\n",
    "\n",
    "\n",
    "ax=plt.axes()\n",
    "\n",
    "ax.set_xticks([0,1,2,3])\n",
    "ax.set_xticklabels(['5','10','15','20'])\n",
    "\n",
    "plt.plot(time_to_convergence_RHC,'o-', color=\"y\",\n",
    "        label=\"RHC\")\n",
    "plt.plot(time_to_convergence_SA, 'o-',color=\"b\",\n",
    "        label=\"SA\")\n",
    "plt.plot(time_to_convergence_MIMIC, 'o-',color=\"r\",\n",
    "        label=\"MIMIC\")\n",
    "plt.plot(time_to_convergence_GA, 'o-',color=\"g\",\n",
    "        label=\"GA\")\n",
    "\n",
    "#plt.grid()\n",
    "plt.ylabel('Avg Time to Algo Convergence (lower is better)')\n",
    "plt.xlabel('Number of Polygon Sides')\n",
    "plt.title(\"Time Requirement as prob. complexity increases (TSM)\")\n",
    "plt.legend(loc=\"best\")\n",
    "\n",
    "plt.show()    "
   ]
  },
  {
   "cell_type": "code",
   "execution_count": null,
   "id": "e32c7940-8a17-4ac5-bd0a-6ec8e6e58ee8",
   "metadata": {},
   "outputs": [],
   "source": []
  },
  {
   "cell_type": "code",
   "execution_count": 21,
   "id": "55a77859-b8a6-4d4e-9f80-a4584a39703a",
   "metadata": {},
   "outputs": [],
   "source": [
    "#four peaks"
   ]
  },
  {
   "cell_type": "code",
   "execution_count": 5,
   "id": "9e17cb0f-08e4-4db4-a584-1364c716a36a",
   "metadata": {},
   "outputs": [
    {
     "name": "stdout",
     "output_type": "stream",
     "text": [
      "[8.0, 17.0, 26.0, 35.0, 44.0]\n",
      "[1.0, 0.97, 0.33, 0.04, 0.0]\n",
      "[0.008653764999999395, 0.010671138999999955, 0.009586282000000352, 0.008880109999998921, 0.008006309999999388]\n"
     ]
    }
   ],
   "source": [
    "#RHC\n",
    "correct_perc=[]\n",
    "avg_time=[]\n",
    "correct_ans_array=[]\n",
    "leng_arr=[5,10,15,20,25]\n",
    "iterations=100\n",
    "\n",
    "for i in range(len(leng_arr)):\n",
    "    less=.2*leng_arr[i]+1\n",
    "    correct_ans_array.append(2*leng_arr[i]-less)\n",
    "\n",
    "print(correct_ans_array)\n",
    "\n",
    "for j in range(len(leng_arr)):\n",
    "    fitness = mlrose.FourPeaks(t_pct=.2)\n",
    "    problem = mlrose.DiscreteOpt(length=leng_arr[j], fitness_fn=fitness, maximize=True, max_val=2)\n",
    "    correct_ans=correct_ans_array[j]\n",
    "    result_array=[]\n",
    "    time_array=[]\n",
    "\n",
    "    for i in range(iterations):\n",
    "        tic=time.perf_counter()\n",
    "        res=random_hill_climb(problem, max_attempts=10, max_iters=1000, restarts=20, init_state=None, curve=False, random_state=None)\n",
    "        result_array.append(res[1])\n",
    "        toc = time.perf_counter()\n",
    "        time_array.append(toc-tic)\n",
    "    correct_perc.append(result_array.count(correct_ans)/iterations)\n",
    "    avg_time.append(sum(time_array)/iterations)    \n",
    "\n",
    "\n",
    "print(correct_perc)\n",
    "print(avg_time)"
   ]
  },
  {
   "cell_type": "code",
   "execution_count": 6,
   "id": "aaa7121e-2168-403a-a4f1-2377af41205e",
   "metadata": {},
   "outputs": [
    {
     "name": "stdout",
     "output_type": "stream",
     "text": [
      "[0.95, 0.66, 0.47, 0.07, 0.03]\n",
      "[0.003857391000000234, 0.003953374000001162, 0.0042479149999996935, 0.004010983999998529, 0.004239585000001113]\n"
     ]
    }
   ],
   "source": [
    "#SA\n",
    "correct_perc=[]\n",
    "avg_time=[]\n",
    "correct_ans_array=[]\n",
    "leng_arr=[5,10,15,20,25]\n",
    "iterations=100\n",
    "j=0\n",
    "\n",
    "for i in range(len(leng_arr)):\n",
    "    less=.2*leng_arr[i]+1\n",
    "    correct_ans_array.append(2*leng_arr[i]-less)\n",
    "\n",
    "for j in range(len(leng_arr)):\n",
    "    fitness = mlrose.FourPeaks(t_pct=.2)\n",
    "    problem = mlrose.DiscreteOpt(length=leng_arr[j], fitness_fn=fitness, maximize=True, max_val=2)\n",
    "    correct_ans=correct_ans_array[j]\n",
    "    result_array=[]\n",
    "    time_array=[]\n",
    "\n",
    "    for i in range(iterations):\n",
    "        tic=time.perf_counter()\n",
    "        res=simulated_annealing(problem, max_attempts=100, max_iters=100, init_state=None, curve=False, random_state=None)\n",
    "        result_array.append(res[1])\n",
    "        toc = time.perf_counter()\n",
    "        time_array.append(toc-tic)\n",
    "    correct_perc.append(result_array.count(correct_ans)/iterations)\n",
    "    avg_time.append(sum(time_array)/iterations)    \n",
    "\n",
    "\n",
    "print(correct_perc)\n",
    "print(avg_time)    \n",
    "\n"
   ]
  },
  {
   "cell_type": "code",
   "execution_count": 10,
   "id": "7ab5204b-6064-4b55-9b48-194a01c68ef0",
   "metadata": {},
   "outputs": [
    {
     "name": "stdout",
     "output_type": "stream",
     "text": [
      "[1.0, 1.0, 0.9, 0.6, 0.3]\n",
      "[0.23757970999999997, 0.817765820000011, 2.1247942200000067, 4.269651799999986, 7.617129770000008]\n"
     ]
    }
   ],
   "source": [
    "#MIMIC\n",
    "correct_perc=[]\n",
    "avg_time=[]\n",
    "correct_ans_array=[]\n",
    "leng_arr=[5,10,15,20,25]\n",
    "\n",
    "iterations=10\n",
    "j=0\n",
    "\n",
    "for i in range(len(leng_arr)):\n",
    "    less=.2*leng_arr[i]+1\n",
    "    correct_ans_array.append(2*leng_arr[i]-less)\n",
    "\n",
    "for j in range(len(leng_arr)):\n",
    "    fitness = mlrose.FourPeaks(t_pct=.2)\n",
    "    problem = mlrose.DiscreteOpt(length=leng_arr[j], fitness_fn=fitness, maximize=True, max_val=2)\n",
    "    correct_ans=correct_ans_array[j]\n",
    "    result_array=[]\n",
    "    time_array=[]\n",
    "\n",
    "    for i in range(iterations):\n",
    "        tic=time.perf_counter()\n",
    "        res=mimic(problem, pop_size=200, keep_pct=0.2, max_attempts=10, max_iters=10000, curve=True, random_state=None, fast_mimic=False)\n",
    "        result_array.append(res[1])\n",
    "        toc = time.perf_counter()\n",
    "        time_array.append(toc-tic)\n",
    "    correct_perc.append(result_array.count(correct_ans)/iterations)\n",
    "    avg_time.append(sum(time_array)/iterations)    \n",
    "\n",
    "\n",
    "print(correct_perc)\n",
    "print(avg_time)    \n"
   ]
  },
  {
   "cell_type": "code",
   "execution_count": 19,
   "id": "ae228052-5849-4dd7-b3f4-20645f6fddb1",
   "metadata": {},
   "outputs": [
    {
     "name": "stdout",
     "output_type": "stream",
     "text": [
      "[1.0, 1.0, 1.0, 1.0, 0.0]\n",
      "[0.2864762199999859, 0.30397198333331893, 0.3881761666666989, 0.4875968633333438, 0.5624910800000331]\n"
     ]
    }
   ],
   "source": [
    "#GA\n",
    "correct_perc=[]\n",
    "avg_time=[]\n",
    "correct_ans_array=[]\n",
    "leng_arr=[5,10,15,20,25]\n",
    "iterations=30\n",
    "j=0\n",
    "\n",
    "for i in range(len(leng_arr)):\n",
    "    less=.2*leng_arr[i]+1\n",
    "    correct_ans_array.append(2*leng_arr[i]-less)\n",
    "\n",
    "for j in range(len(leng_arr)):\n",
    "    fitness = mlrose.FourPeaks(t_pct=.2)\n",
    "    problem = mlrose.DiscreteOpt(length=leng_arr[j], fitness_fn=fitness, maximize=True, max_val=2)\n",
    "    correct_ans=correct_ans_array[j]\n",
    "    result_array=[]\n",
    "    time_array=[]\n",
    "\n",
    "    for i in range(iterations):\n",
    "        tic=time.perf_counter()\n",
    "        res=mlrose.genetic_alg(problem, random_state = 1000)\n",
    "        result_array.append(res[1])\n",
    "        toc = time.perf_counter()\n",
    "        time_array.append(toc-tic)\n",
    "    correct_perc.append(result_array.count(correct_ans)/iterations)\n",
    "    avg_time.append(sum(time_array)/iterations)    \n",
    "\n",
    "\n",
    "print(correct_perc)\n",
    "print(avg_time)    "
   ]
  },
  {
   "cell_type": "code",
   "execution_count": 15,
   "id": "f21f3257-2cab-4938-aa8d-178bad9ef93f",
   "metadata": {},
   "outputs": [
    {
     "data": {
      "image/png": "[encoded data removed]",
      "text/plain": [
       "<Figure size 432x288 with 1 Axes>"
      ]
     },
     "metadata": {
      "needs_background": "light"
     },
     "output_type": "display_data"
    }
   ],
   "source": [
    "import matplotlib.pyplot as plt\n",
    "\n",
    "percent_correct_RHC=[1.0, 0.97, 0.33, 0.04, 0.0]\n",
    "percent_correct_SA=[0.95, 0.66, 0.47, 0.07, 0.03]\n",
    "percent_correct_MIMIC=[1.0, 1.0, 0.9, 0.6, 0.3]\n",
    "percent_correct_GA=[1.0, 1.0, 1.0, 1.0, 0.0]\n",
    "\n",
    "time_to_convergence_RHC=[0.003857391000000234, 0.003953374000001162, 0.0042479149999996935, 0.004010983999998529, 0.004239585000001113]\n",
    "time_to_convergence_SA=[0.003857391000000234, 0.003953374000001162, 0.0042479149999996935, 0.004010983999998529, 0.004239585000001113]\n",
    "time_to_convergence_MIMIC=[0.003857391000000234, 0.003953374000001162, 0.0042479149999996935, 0.004010983999998529, 0.004239585000001113]\n",
    "time_to_convergence_GA=[0.2911167299999988, 0.29993180999999824, 0.3934355800000162, 0.4777957499999843, 0.551041819999989]\n",
    "\n",
    "\n",
    "\n",
    "grid_search_tit=[.81,6.4,341.6,3.7,]\n",
    "model_fit_dia=[math.log(.001),math.log(.004),math.log(.037),math.log(.15),math.log(621.1)]\n",
    "model_fit_tit=[math.log(.007),math.log(.007),math.log(14.7),math.log(.002),math.log(695.3)]\n",
    "ax=plt.axes()\n",
    "\n",
    "ax.set_xticks([0,1,2,3,4])\n",
    "ax.set_xticklabels(['5','10','15','20',\"25\"])\n",
    "\n",
    "plt.plot(percent_correct_RHC,'o-', color=\"y\",\n",
    "        label=\"RHC\")\n",
    "plt.plot(percent_correct_SA, 'o-',color=\"b\",\n",
    "        label=\"SA\")\n",
    "plt.plot(percent_correct_MIMIC, 'o-',color=\"r\",\n",
    "        label=\"MIMIC\")\n",
    "plt.plot(percent_correct_GA, 'o-',color=\"g\",\n",
    "        label=\"GA\")\n",
    "\n",
    "#plt.grid()\n",
    "plt.ylabel('Accuracy (Percent Correct)')\n",
    "plt.xlabel('N')\n",
    "plt.title(\"Accuracy of Algorithms as Problem Complexity Increases\")\n",
    "plt.legend(loc=\"best\")\n",
    "\n",
    "plt.show()    "
   ]
  },
  {
   "cell_type": "code",
   "execution_count": 31,
   "id": "4b7c0451-181f-4933-8718-5c87f0ee16bb",
   "metadata": {},
   "outputs": [
    {
     "data": {
      "image/png": "[encoded data removed]",
      "text/plain": [
       "<Figure size 432x288 with 1 Axes>"
      ]
     },
     "metadata": {
      "needs_background": "light"
     },
     "output_type": "display_data"
    }
   ],
   "source": [
    "import matplotlib.pyplot as plt\n",
    "\n",
    "time_to_convergence_RHC=[0.003857391000000234, 0.003953374000001162, 0.0042479149999996935, 0.004010983999998529, 0.004239585000001113]\n",
    "time_to_convergence_SA=[0.003857391000000234, 0.003953374000001162, 0.0042479149999996935, 0.004010983999998529, 0.004239585000001113]\n",
    "time_to_convergence_MIMIC=[0.23757970999999997, 0.817765820000011, 2.1247942200000067, 4.269651799999986, 7.617129770000008]\n",
    "time_to_convergence_GA=[0.2911167299999988, 0.29993180999999824, 0.3934355800000162, 0.4777957499999843, 0.551041819999989]\n",
    "\n",
    "\n",
    "\n",
    "ax=plt.axes()\n",
    "\n",
    "ax.set_xticks([0,1,2,3,4])\n",
    "ax.set_xticklabels(['5','10','15','20',\"25\"])\n",
    "\n",
    "plt.plot(time_to_convergence_RHC,'o-', color=\"y\",\n",
    "        label=\"RHC\")\n",
    "plt.plot(time_to_convergence_SA, 'o-',color=\"b\",\n",
    "        label=\"SA\")\n",
    "plt.plot(time_to_convergence_MIMIC, 'o-',color=\"r\",\n",
    "        label=\"MIMIC\")\n",
    "plt.plot(time_to_convergence_GA, 'o-',color=\"g\",\n",
    "        label=\"GA\")\n",
    "\n",
    "#plt.grid()\n",
    "plt.ylabel('Time to converge (S)')\n",
    "plt.xlabel('N')\n",
    "plt.title(\"Accuracy of Algorithms as Problem Complexity Increases\")\n",
    "plt.legend(loc=\"best\")\n",
    "\n",
    "plt.show()    "
   ]
  },
  {
   "cell_type": "code",
   "execution_count": null,
   "id": "c37982e4-1254-4996-9d59-5904a8de2565",
   "metadata": {},
   "outputs": [],
   "source": []
  }
 ],
 "metadata": {
  "kernelspec": {
   "display_name": "Python 3 (ipykernel)",
   "language": "python",
   "name": "python3"
  },
  "language_info": {
   "codemirror_mode": {
    "name": "ipython",
    "version": 3
   },
   "file_extension": ".py",
   "mimetype": "text/x-python",
   "name": "python",
   "nbconvert_exporter": "python",
   "pygments_lexer": "ipython3",
   "version": "3.9.12"
  }
 },
 "nbformat": 4,
 "nbformat_minor": 5
}
